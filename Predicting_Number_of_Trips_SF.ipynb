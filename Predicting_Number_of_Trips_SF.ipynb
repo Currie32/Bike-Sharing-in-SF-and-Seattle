{
 "cells": [
  {
   "cell_type": "markdown",
   "metadata": {},
   "source": [
    "# Predicting the Number of Daily Trips, San Francisco"
   ]
  },
  {
   "cell_type": "markdown",
   "metadata": {},
   "source": [
    "After performing an exploratory analysis on the bike sharing services in San Francisco and Seattle (https://github.com/Currie32/Bike-Sharing-in-SF-and-Seattle), I wanted to follow this up by building a predictive model. The goal for this report is, to create a model that can accurately predict the number of trips taken, on a given day, with San Francisco's bike sharing service. I will only be using information that the bike sharing company could know at the start of the day, i.e. weather report, number of bikes availble, type of day (business day vs holiday vs weekend). "
   ]
  },
  {
   "cell_type": "markdown",
   "metadata": {},
   "source": [
    "### Load the Packages"
   ]
  },
  {
   "cell_type": "code",
   "execution_count": 1,
   "metadata": {
    "collapsed": false
   },
   "outputs": [
    {
     "name": "stderr",
     "output_type": "stream",
     "text": [
      "/Library/Frameworks/Python.framework/Versions/2.7/lib/python2.7/site-packages/sklearn/cross_validation.py:44: DeprecationWarning: This module was deprecated in version 0.18 in favor of the model_selection module into which all the refactored classes and functions are moved. Also note that the interface of the new CV iterators are different from that of this module. This module will be removed in 0.20.\n",
      "  \"This module will be removed in 0.20.\", DeprecationWarning)\n",
      "/Library/Frameworks/Python.framework/Versions/2.7/lib/python2.7/site-packages/sklearn/grid_search.py:43: DeprecationWarning: This module was deprecated in version 0.18 in favor of the model_selection module into which all the refactored classes and functions are moved. This module will be removed in 0.20.\n",
      "  DeprecationWarning)\n"
     ]
    }
   ],
   "source": [
    "import pandas as pd\n",
    "import numpy as np\n",
    "from scipy.stats.stats import pearsonr  \n",
    "from pandas.tseries.holiday import USFederalHolidayCalendar\n",
    "from pandas.tseries.offsets import CustomBusinessDay\n",
    "from datetime import datetime\n",
    "from sklearn.model_selection import train_test_split\n",
    "import math\n",
    "import matplotlib.pyplot as plt\n",
    "from sklearn.feature_selection import SelectKBest\n",
    "from sklearn.pipeline import Pipeline\n",
    "from sklearn.decomposition import PCA\n",
    "from sklearn.grid_search import GridSearchCV\n",
    "from sklearn.pipeline import FeatureUnion\n",
    "from sklearn.ensemble import RandomForestRegressor, GradientBoostingRegressor, AdaBoostRegressor\n",
    "from sklearn.tree import DecisionTreeRegressor\n",
    "from sklearn.linear_model import LogisticRegression\n",
    "from sklearn.model_selection import cross_val_score\n",
    "from sklearn.cross_validation import KFold\n",
    "from sklearn.metrics import mean_squared_error, median_absolute_error\n",
    "import xgboost as xgb"
   ]
  },
  {
   "cell_type": "markdown",
   "metadata": {},
   "source": [
    "### Import the Data"
   ]
  },
  {
   "cell_type": "code",
   "execution_count": 2,
   "metadata": {
    "collapsed": true
   },
   "outputs": [],
   "source": [
    "df = pd.read_csv(\"/Users/Dave/Desktop/Programming/Personal Projects/Bikeshare_Seattle_SF_Kaggle/tripSF.csv\")\n",
    "weather = pd.read_csv(\"/Users/Dave/Desktop/Programming/Personal Projects/Bikeshare_Seattle_SF_Kaggle/weatherSF.csv\")\n",
    "stations = pd.read_csv(\"/Users/Dave/Desktop/Programming/Personal Projects/Bikeshare_Seattle_SF_Kaggle/stationSF.csv\")"
   ]
  },
  {
   "cell_type": "markdown",
   "metadata": {},
   "source": [
    "## Explore the Trips data frame\n",
    "\n",
    "If you would like to see a comprehensive exploration of this data, please visit my other report: https://github.com/Currie32/Bike-Sharing-in-SF-and-Seattle"
   ]
  },
  {
   "cell_type": "code",
   "execution_count": 3,
   "metadata": {
    "collapsed": false,
    "scrolled": true
   },
   "outputs": [
    {
     "data": {
      "text/html": [
       "<div>\n",
       "<table border=\"1\" class=\"dataframe\">\n",
       "  <thead>\n",
       "    <tr style=\"text-align: right;\">\n",
       "      <th></th>\n",
       "      <th>id</th>\n",
       "      <th>duration</th>\n",
       "      <th>start_date</th>\n",
       "      <th>start_station_name</th>\n",
       "      <th>start_station_id</th>\n",
       "      <th>end_date</th>\n",
       "      <th>end_station_name</th>\n",
       "      <th>end_station_id</th>\n",
       "      <th>bike_id</th>\n",
       "      <th>subscription_type</th>\n",
       "      <th>zip_code</th>\n",
       "    </tr>\n",
       "  </thead>\n",
       "  <tbody>\n",
       "    <tr>\n",
       "      <th>0</th>\n",
       "      <td>4576</td>\n",
       "      <td>63</td>\n",
       "      <td>8/29/2013 14:13</td>\n",
       "      <td>South Van Ness at Market</td>\n",
       "      <td>66</td>\n",
       "      <td>8/29/2013 14:14</td>\n",
       "      <td>South Van Ness at Market</td>\n",
       "      <td>66</td>\n",
       "      <td>520</td>\n",
       "      <td>Subscriber</td>\n",
       "      <td>94127</td>\n",
       "    </tr>\n",
       "    <tr>\n",
       "      <th>1</th>\n",
       "      <td>4607</td>\n",
       "      <td>70</td>\n",
       "      <td>8/29/2013 14:42</td>\n",
       "      <td>San Jose City Hall</td>\n",
       "      <td>10</td>\n",
       "      <td>8/29/2013 14:43</td>\n",
       "      <td>San Jose City Hall</td>\n",
       "      <td>10</td>\n",
       "      <td>661</td>\n",
       "      <td>Subscriber</td>\n",
       "      <td>95138</td>\n",
       "    </tr>\n",
       "    <tr>\n",
       "      <th>2</th>\n",
       "      <td>4130</td>\n",
       "      <td>71</td>\n",
       "      <td>8/29/2013 10:16</td>\n",
       "      <td>Mountain View City Hall</td>\n",
       "      <td>27</td>\n",
       "      <td>8/29/2013 10:17</td>\n",
       "      <td>Mountain View City Hall</td>\n",
       "      <td>27</td>\n",
       "      <td>48</td>\n",
       "      <td>Subscriber</td>\n",
       "      <td>97214</td>\n",
       "    </tr>\n",
       "    <tr>\n",
       "      <th>3</th>\n",
       "      <td>4251</td>\n",
       "      <td>77</td>\n",
       "      <td>8/29/2013 11:29</td>\n",
       "      <td>San Jose City Hall</td>\n",
       "      <td>10</td>\n",
       "      <td>8/29/2013 11:30</td>\n",
       "      <td>San Jose City Hall</td>\n",
       "      <td>10</td>\n",
       "      <td>26</td>\n",
       "      <td>Subscriber</td>\n",
       "      <td>95060</td>\n",
       "    </tr>\n",
       "    <tr>\n",
       "      <th>4</th>\n",
       "      <td>4299</td>\n",
       "      <td>83</td>\n",
       "      <td>8/29/2013 12:02</td>\n",
       "      <td>South Van Ness at Market</td>\n",
       "      <td>66</td>\n",
       "      <td>8/29/2013 12:04</td>\n",
       "      <td>Market at 10th</td>\n",
       "      <td>67</td>\n",
       "      <td>319</td>\n",
       "      <td>Subscriber</td>\n",
       "      <td>94103</td>\n",
       "    </tr>\n",
       "  </tbody>\n",
       "</table>\n",
       "</div>"
      ],
      "text/plain": [
       "     id  duration       start_date        start_station_name  \\\n",
       "0  4576        63  8/29/2013 14:13  South Van Ness at Market   \n",
       "1  4607        70  8/29/2013 14:42        San Jose City Hall   \n",
       "2  4130        71  8/29/2013 10:16   Mountain View City Hall   \n",
       "3  4251        77  8/29/2013 11:29        San Jose City Hall   \n",
       "4  4299        83  8/29/2013 12:02  South Van Ness at Market   \n",
       "\n",
       "   start_station_id         end_date          end_station_name  \\\n",
       "0                66  8/29/2013 14:14  South Van Ness at Market   \n",
       "1                10  8/29/2013 14:43        San Jose City Hall   \n",
       "2                27  8/29/2013 10:17   Mountain View City Hall   \n",
       "3                10  8/29/2013 11:30        San Jose City Hall   \n",
       "4                66  8/29/2013 12:04            Market at 10th   \n",
       "\n",
       "   end_station_id  bike_id subscription_type zip_code  \n",
       "0              66      520        Subscriber    94127  \n",
       "1              10      661        Subscriber    95138  \n",
       "2              27       48        Subscriber    97214  \n",
       "3              10       26        Subscriber    95060  \n",
       "4              67      319        Subscriber    94103  "
      ]
     },
     "execution_count": 3,
     "metadata": {},
     "output_type": "execute_result"
    }
   ],
   "source": [
    "df.head()"
   ]
  },
  {
   "cell_type": "code",
   "execution_count": 4,
   "metadata": {
    "collapsed": false
   },
   "outputs": [
    {
     "data": {
      "text/plain": [
       "id                       0\n",
       "duration                 0\n",
       "start_date               0\n",
       "start_station_name       0\n",
       "start_station_id         0\n",
       "end_date                 0\n",
       "end_station_name         0\n",
       "end_station_id           0\n",
       "bike_id                  0\n",
       "subscription_type        0\n",
       "zip_code              6619\n",
       "dtype: int64"
      ]
     },
     "execution_count": 4,
     "metadata": {},
     "output_type": "execute_result"
    }
   ],
   "source": [
    "df.isnull().sum()"
   ]
  },
  {
   "cell_type": "code",
   "execution_count": 5,
   "metadata": {
    "collapsed": false
   },
   "outputs": [
    {
     "data": {
      "text/plain": [
       "count    6.699590e+05\n",
       "mean     1.107950e+03\n",
       "std      2.225544e+04\n",
       "min      6.000000e+01\n",
       "25%      3.440000e+02\n",
       "50%      5.170000e+02\n",
       "75%      7.550000e+02\n",
       "max      1.727040e+07\n",
       "Name: duration, dtype: float64"
      ]
     },
     "execution_count": 5,
     "metadata": {},
     "output_type": "execute_result"
    }
   ],
   "source": [
    "df.duration.describe()"
   ]
  },
  {
   "cell_type": "code",
   "execution_count": 6,
   "metadata": {
    "collapsed": true
   },
   "outputs": [],
   "source": [
    "#Change duration from seconds to minutes\n",
    "df.duration /= 60"
   ]
  },
  {
   "cell_type": "code",
   "execution_count": 7,
   "metadata": {
    "collapsed": false
   },
   "outputs": [
    {
     "data": {
      "text/plain": [
       "count    669959.000000\n",
       "mean         18.465831\n",
       "std         370.923950\n",
       "min           1.000000\n",
       "25%           5.733333\n",
       "50%           8.616667\n",
       "75%          12.583333\n",
       "max      287840.000000\n",
       "Name: duration, dtype: float64"
      ]
     },
     "execution_count": 7,
     "metadata": {},
     "output_type": "execute_result"
    }
   ],
   "source": [
    "df.duration.describe()"
   ]
  },
  {
   "cell_type": "code",
   "execution_count": 8,
   "metadata": {
    "collapsed": false
   },
   "outputs": [],
   "source": [
    "#I want to remove major outliers from the data; trips longer than 6 hours. This will remove less than 0.5% of the data.\n",
    "df['duration'].quantile(0.995)\n",
    "df = df[df.duration <= 360]"
   ]
  },
  {
   "cell_type": "code",
   "execution_count": 9,
   "metadata": {
    "collapsed": false
   },
   "outputs": [
    {
     "data": {
      "text/plain": [
       "(666872, 11)"
      ]
     },
     "execution_count": 9,
     "metadata": {},
     "output_type": "execute_result"
    }
   ],
   "source": [
    "df.shape"
   ]
  },
  {
   "cell_type": "code",
   "execution_count": 10,
   "metadata": {
    "collapsed": false
   },
   "outputs": [],
   "source": [
    "#Convert to datetime so that it can be manipulated more easily\n",
    "df.start_date = pd.to_datetime(df.start_date, format='%m/%d/%Y %H:%M')"
   ]
  },
  {
   "cell_type": "code",
   "execution_count": 11,
   "metadata": {
    "collapsed": false
   },
   "outputs": [],
   "source": [
    "#Extract the year, month, and day from start_date\n",
    "df['date'] = df.start_date.dt.date"
   ]
  },
  {
   "cell_type": "code",
   "execution_count": 12,
   "metadata": {
    "collapsed": false
   },
   "outputs": [],
   "source": [
    "#Each entry in the date feature is a trip. \n",
    "#By finding the total number of times a date is listed, we know how many trips were taken on that date.\n",
    "dates = {}\n",
    "for d in df.date:\n",
    "    if d not in dates:\n",
    "        dates[d] = 1\n",
    "    else:\n",
    "        dates[d] += 1"
   ]
  },
  {
   "cell_type": "code",
   "execution_count": 13,
   "metadata": {
    "collapsed": false
   },
   "outputs": [],
   "source": [
    "#Create the data frame that will be used for training, with the dictionary we just created.\n",
    "train = pd.DataFrame(dates.items(), columns=['date', 'trips'])"
   ]
  },
  {
   "cell_type": "code",
   "execution_count": 14,
   "metadata": {
    "collapsed": false,
    "scrolled": true
   },
   "outputs": [
    {
     "data": {
      "text/html": [
       "<div>\n",
       "<table border=\"1\" class=\"dataframe\">\n",
       "  <thead>\n",
       "    <tr style=\"text-align: right;\">\n",
       "      <th></th>\n",
       "      <th>date</th>\n",
       "      <th>trips</th>\n",
       "    </tr>\n",
       "  </thead>\n",
       "  <tbody>\n",
       "    <tr>\n",
       "      <th>0</th>\n",
       "      <td>2015-07-26</td>\n",
       "      <td>432</td>\n",
       "    </tr>\n",
       "    <tr>\n",
       "      <th>1</th>\n",
       "      <td>2013-10-18</td>\n",
       "      <td>1097</td>\n",
       "    </tr>\n",
       "    <tr>\n",
       "      <th>2</th>\n",
       "      <td>2014-06-16</td>\n",
       "      <td>1265</td>\n",
       "    </tr>\n",
       "    <tr>\n",
       "      <th>3</th>\n",
       "      <td>2014-11-24</td>\n",
       "      <td>1283</td>\n",
       "    </tr>\n",
       "    <tr>\n",
       "      <th>4</th>\n",
       "      <td>2015-04-02</td>\n",
       "      <td>1389</td>\n",
       "    </tr>\n",
       "    <tr>\n",
       "      <th>5</th>\n",
       "      <td>2013-11-30</td>\n",
       "      <td>303</td>\n",
       "    </tr>\n",
       "    <tr>\n",
       "      <th>6</th>\n",
       "      <td>2015-03-26</td>\n",
       "      <td>1346</td>\n",
       "    </tr>\n",
       "    <tr>\n",
       "      <th>7</th>\n",
       "      <td>2014-05-12</td>\n",
       "      <td>1178</td>\n",
       "    </tr>\n",
       "    <tr>\n",
       "      <th>8</th>\n",
       "      <td>2014-04-12</td>\n",
       "      <td>460</td>\n",
       "    </tr>\n",
       "    <tr>\n",
       "      <th>9</th>\n",
       "      <td>2013-09-05</td>\n",
       "      <td>671</td>\n",
       "    </tr>\n",
       "    <tr>\n",
       "      <th>10</th>\n",
       "      <td>2013-12-11</td>\n",
       "      <td>901</td>\n",
       "    </tr>\n",
       "    <tr>\n",
       "      <th>11</th>\n",
       "      <td>2015-06-02</td>\n",
       "      <td>1384</td>\n",
       "    </tr>\n",
       "    <tr>\n",
       "      <th>12</th>\n",
       "      <td>2015-05-26</td>\n",
       "      <td>1219</td>\n",
       "    </tr>\n",
       "    <tr>\n",
       "      <th>13</th>\n",
       "      <td>2015-01-05</td>\n",
       "      <td>1185</td>\n",
       "    </tr>\n",
       "    <tr>\n",
       "      <th>14</th>\n",
       "      <td>2014-07-01</td>\n",
       "      <td>1203</td>\n",
       "    </tr>\n",
       "    <tr>\n",
       "      <th>15</th>\n",
       "      <td>2015-02-18</td>\n",
       "      <td>1235</td>\n",
       "    </tr>\n",
       "    <tr>\n",
       "      <th>16</th>\n",
       "      <td>2015-07-17</td>\n",
       "      <td>1246</td>\n",
       "    </tr>\n",
       "    <tr>\n",
       "      <th>17</th>\n",
       "      <td>2013-10-27</td>\n",
       "      <td>287</td>\n",
       "    </tr>\n",
       "    <tr>\n",
       "      <th>18</th>\n",
       "      <td>2015-08-02</td>\n",
       "      <td>317</td>\n",
       "    </tr>\n",
       "    <tr>\n",
       "      <th>19</th>\n",
       "      <td>2014-06-27</td>\n",
       "      <td>1130</td>\n",
       "    </tr>\n",
       "    <tr>\n",
       "      <th>20</th>\n",
       "      <td>2014-12-06</td>\n",
       "      <td>415</td>\n",
       "    </tr>\n",
       "    <tr>\n",
       "      <th>21</th>\n",
       "      <td>2014-11-17</td>\n",
       "      <td>1303</td>\n",
       "    </tr>\n",
       "    <tr>\n",
       "      <th>22</th>\n",
       "      <td>2015-04-27</td>\n",
       "      <td>1231</td>\n",
       "    </tr>\n",
       "    <tr>\n",
       "      <th>23</th>\n",
       "      <td>2013-11-17</td>\n",
       "      <td>404</td>\n",
       "    </tr>\n",
       "    <tr>\n",
       "      <th>24</th>\n",
       "      <td>2015-03-01</td>\n",
       "      <td>333</td>\n",
       "    </tr>\n",
       "    <tr>\n",
       "      <th>25</th>\n",
       "      <td>2014-05-05</td>\n",
       "      <td>1153</td>\n",
       "    </tr>\n",
       "    <tr>\n",
       "      <th>26</th>\n",
       "      <td>2014-04-11</td>\n",
       "      <td>1008</td>\n",
       "    </tr>\n",
       "    <tr>\n",
       "      <th>27</th>\n",
       "      <td>2013-09-12</td>\n",
       "      <td>933</td>\n",
       "    </tr>\n",
       "    <tr>\n",
       "      <th>28</th>\n",
       "      <td>2014-09-29</td>\n",
       "      <td>1333</td>\n",
       "    </tr>\n",
       "    <tr>\n",
       "      <th>29</th>\n",
       "      <td>2013-12-04</td>\n",
       "      <td>990</td>\n",
       "    </tr>\n",
       "    <tr>\n",
       "      <th>...</th>\n",
       "      <td>...</td>\n",
       "      <td>...</td>\n",
       "    </tr>\n",
       "    <tr>\n",
       "      <th>703</th>\n",
       "      <td>2014-02-25</td>\n",
       "      <td>1083</td>\n",
       "    </tr>\n",
       "    <tr>\n",
       "      <th>704</th>\n",
       "      <td>2015-08-29</td>\n",
       "      <td>341</td>\n",
       "    </tr>\n",
       "    <tr>\n",
       "      <th>705</th>\n",
       "      <td>2015-01-24</td>\n",
       "      <td>418</td>\n",
       "    </tr>\n",
       "    <tr>\n",
       "      <th>706</th>\n",
       "      <td>2014-12-31</td>\n",
       "      <td>381</td>\n",
       "    </tr>\n",
       "    <tr>\n",
       "      <th>707</th>\n",
       "      <td>2014-01-19</td>\n",
       "      <td>393</td>\n",
       "    </tr>\n",
       "    <tr>\n",
       "      <th>708</th>\n",
       "      <td>2015-07-12</td>\n",
       "      <td>370</td>\n",
       "    </tr>\n",
       "    <tr>\n",
       "      <th>709</th>\n",
       "      <td>2015-04-12</td>\n",
       "      <td>302</td>\n",
       "    </tr>\n",
       "    <tr>\n",
       "      <th>710</th>\n",
       "      <td>2015-03-20</td>\n",
       "      <td>1203</td>\n",
       "    </tr>\n",
       "    <tr>\n",
       "      <th>711</th>\n",
       "      <td>2014-10-23</td>\n",
       "      <td>1387</td>\n",
       "    </tr>\n",
       "    <tr>\n",
       "      <th>712</th>\n",
       "      <td>2014-09-04</td>\n",
       "      <td>1386</td>\n",
       "    </tr>\n",
       "    <tr>\n",
       "      <th>713</th>\n",
       "      <td>2014-03-24</td>\n",
       "      <td>1011</td>\n",
       "    </tr>\n",
       "    <tr>\n",
       "      <th>714</th>\n",
       "      <td>2013-09-23</td>\n",
       "      <td>1044</td>\n",
       "    </tr>\n",
       "    <tr>\n",
       "      <th>715</th>\n",
       "      <td>2014-08-04</td>\n",
       "      <td>1164</td>\n",
       "    </tr>\n",
       "    <tr>\n",
       "      <th>716</th>\n",
       "      <td>2013-12-25</td>\n",
       "      <td>355</td>\n",
       "    </tr>\n",
       "    <tr>\n",
       "      <th>717</th>\n",
       "      <td>2014-02-16</td>\n",
       "      <td>413</td>\n",
       "    </tr>\n",
       "    <tr>\n",
       "      <th>718</th>\n",
       "      <td>2015-01-19</td>\n",
       "      <td>619</td>\n",
       "    </tr>\n",
       "    <tr>\n",
       "      <th>719</th>\n",
       "      <td>2014-07-19</td>\n",
       "      <td>417</td>\n",
       "    </tr>\n",
       "    <tr>\n",
       "      <th>720</th>\n",
       "      <td>2014-01-20</td>\n",
       "      <td>611</td>\n",
       "    </tr>\n",
       "    <tr>\n",
       "      <th>721</th>\n",
       "      <td>2015-07-03</td>\n",
       "      <td>430</td>\n",
       "    </tr>\n",
       "    <tr>\n",
       "      <th>722</th>\n",
       "      <td>2013-10-21</td>\n",
       "      <td>1014</td>\n",
       "    </tr>\n",
       "    <tr>\n",
       "      <th>723</th>\n",
       "      <td>2015-04-05</td>\n",
       "      <td>212</td>\n",
       "    </tr>\n",
       "    <tr>\n",
       "      <th>724</th>\n",
       "      <td>2015-03-19</td>\n",
       "      <td>1361</td>\n",
       "    </tr>\n",
       "    <tr>\n",
       "      <th>725</th>\n",
       "      <td>2014-10-30</td>\n",
       "      <td>1405</td>\n",
       "    </tr>\n",
       "    <tr>\n",
       "      <th>726</th>\n",
       "      <td>2013-09-30</td>\n",
       "      <td>969</td>\n",
       "    </tr>\n",
       "    <tr>\n",
       "      <th>727</th>\n",
       "      <td>2013-12-18</td>\n",
       "      <td>925</td>\n",
       "    </tr>\n",
       "    <tr>\n",
       "      <th>728</th>\n",
       "      <td>2015-06-09</td>\n",
       "      <td>1380</td>\n",
       "    </tr>\n",
       "    <tr>\n",
       "      <th>729</th>\n",
       "      <td>2015-05-19</td>\n",
       "      <td>1379</td>\n",
       "    </tr>\n",
       "    <tr>\n",
       "      <th>730</th>\n",
       "      <td>2015-01-10</td>\n",
       "      <td>355</td>\n",
       "    </tr>\n",
       "    <tr>\n",
       "      <th>731</th>\n",
       "      <td>2014-07-24</td>\n",
       "      <td>1296</td>\n",
       "    </tr>\n",
       "    <tr>\n",
       "      <th>732</th>\n",
       "      <td>2014-01-29</td>\n",
       "      <td>952</td>\n",
       "    </tr>\n",
       "  </tbody>\n",
       "</table>\n",
       "<p>733 rows × 2 columns</p>\n",
       "</div>"
      ],
      "text/plain": [
       "           date  trips\n",
       "0    2015-07-26    432\n",
       "1    2013-10-18   1097\n",
       "2    2014-06-16   1265\n",
       "3    2014-11-24   1283\n",
       "4    2015-04-02   1389\n",
       "5    2013-11-30    303\n",
       "6    2015-03-26   1346\n",
       "7    2014-05-12   1178\n",
       "8    2014-04-12    460\n",
       "9    2013-09-05    671\n",
       "10   2013-12-11    901\n",
       "11   2015-06-02   1384\n",
       "12   2015-05-26   1219\n",
       "13   2015-01-05   1185\n",
       "14   2014-07-01   1203\n",
       "15   2015-02-18   1235\n",
       "16   2015-07-17   1246\n",
       "17   2013-10-27    287\n",
       "18   2015-08-02    317\n",
       "19   2014-06-27   1130\n",
       "20   2014-12-06    415\n",
       "21   2014-11-17   1303\n",
       "22   2015-04-27   1231\n",
       "23   2013-11-17    404\n",
       "24   2015-03-01    333\n",
       "25   2014-05-05   1153\n",
       "26   2014-04-11   1008\n",
       "27   2013-09-12    933\n",
       "28   2014-09-29   1333\n",
       "29   2013-12-04    990\n",
       "..          ...    ...\n",
       "703  2014-02-25   1083\n",
       "704  2015-08-29    341\n",
       "705  2015-01-24    418\n",
       "706  2014-12-31    381\n",
       "707  2014-01-19    393\n",
       "708  2015-07-12    370\n",
       "709  2015-04-12    302\n",
       "710  2015-03-20   1203\n",
       "711  2014-10-23   1387\n",
       "712  2014-09-04   1386\n",
       "713  2014-03-24   1011\n",
       "714  2013-09-23   1044\n",
       "715  2014-08-04   1164\n",
       "716  2013-12-25    355\n",
       "717  2014-02-16    413\n",
       "718  2015-01-19    619\n",
       "719  2014-07-19    417\n",
       "720  2014-01-20    611\n",
       "721  2015-07-03    430\n",
       "722  2013-10-21   1014\n",
       "723  2015-04-05    212\n",
       "724  2015-03-19   1361\n",
       "725  2014-10-30   1405\n",
       "726  2013-09-30    969\n",
       "727  2013-12-18    925\n",
       "728  2015-06-09   1380\n",
       "729  2015-05-19   1379\n",
       "730  2015-01-10    355\n",
       "731  2014-07-24   1296\n",
       "732  2014-01-29    952\n",
       "\n",
       "[733 rows x 2 columns]"
      ]
     },
     "execution_count": 14,
     "metadata": {},
     "output_type": "execute_result"
    }
   ],
   "source": [
    "#Looks good! ---except for the dates being out of order.\n",
    "train"
   ]
  },
  {
   "cell_type": "code",
   "execution_count": 15,
   "metadata": {
    "collapsed": false
   },
   "outputs": [
    {
     "name": "stderr",
     "output_type": "stream",
     "text": [
      "/Library/Frameworks/Python.framework/Versions/2.7/lib/python2.7/site-packages/ipykernel/__main__.py:2: FutureWarning: sort(columns=....) is deprecated, use sort_values(by=.....)\n",
      "  from ipykernel import kernelapp as app\n"
     ]
    }
   ],
   "source": [
    "#All sorted now!\n",
    "train = train.sort('date')\n",
    "train.reset_index(drop=True, inplace=True)"
   ]
  },
  {
   "cell_type": "markdown",
   "metadata": {},
   "source": [
    "## Explore the Weather data frame"
   ]
  },
  {
   "cell_type": "code",
   "execution_count": 16,
   "metadata": {
    "collapsed": false
   },
   "outputs": [
    {
     "data": {
      "text/html": [
       "<div>\n",
       "<table border=\"1\" class=\"dataframe\">\n",
       "  <thead>\n",
       "    <tr style=\"text-align: right;\">\n",
       "      <th></th>\n",
       "      <th>date</th>\n",
       "      <th>max_temperature_f</th>\n",
       "      <th>mean_temperature_f</th>\n",
       "      <th>min_temperature_f</th>\n",
       "      <th>max_dew_point_f</th>\n",
       "      <th>mean_dew_point_f</th>\n",
       "      <th>min_dew_point_f</th>\n",
       "      <th>max_humidity</th>\n",
       "      <th>mean_humidity</th>\n",
       "      <th>min_humidity</th>\n",
       "      <th>...</th>\n",
       "      <th>mean_visibility_miles</th>\n",
       "      <th>min_visibility_miles</th>\n",
       "      <th>max_wind_Speed_mph</th>\n",
       "      <th>mean_wind_speed_mph</th>\n",
       "      <th>max_gust_speed_mph</th>\n",
       "      <th>precipitation_inches</th>\n",
       "      <th>cloud_cover</th>\n",
       "      <th>events</th>\n",
       "      <th>wind_dir_degrees</th>\n",
       "      <th>zip_code</th>\n",
       "    </tr>\n",
       "  </thead>\n",
       "  <tbody>\n",
       "    <tr>\n",
       "      <th>0</th>\n",
       "      <td>8/29/2013</td>\n",
       "      <td>74.0</td>\n",
       "      <td>68.0</td>\n",
       "      <td>61.0</td>\n",
       "      <td>61.0</td>\n",
       "      <td>58.0</td>\n",
       "      <td>56.0</td>\n",
       "      <td>93.0</td>\n",
       "      <td>75.0</td>\n",
       "      <td>57.0</td>\n",
       "      <td>...</td>\n",
       "      <td>10.0</td>\n",
       "      <td>10.0</td>\n",
       "      <td>23.0</td>\n",
       "      <td>11.0</td>\n",
       "      <td>28.0</td>\n",
       "      <td>0</td>\n",
       "      <td>4.0</td>\n",
       "      <td>NaN</td>\n",
       "      <td>286.0</td>\n",
       "      <td>94107</td>\n",
       "    </tr>\n",
       "    <tr>\n",
       "      <th>1</th>\n",
       "      <td>8/30/2013</td>\n",
       "      <td>78.0</td>\n",
       "      <td>69.0</td>\n",
       "      <td>60.0</td>\n",
       "      <td>61.0</td>\n",
       "      <td>58.0</td>\n",
       "      <td>56.0</td>\n",
       "      <td>90.0</td>\n",
       "      <td>70.0</td>\n",
       "      <td>50.0</td>\n",
       "      <td>...</td>\n",
       "      <td>10.0</td>\n",
       "      <td>7.0</td>\n",
       "      <td>29.0</td>\n",
       "      <td>13.0</td>\n",
       "      <td>35.0</td>\n",
       "      <td>0</td>\n",
       "      <td>2.0</td>\n",
       "      <td>NaN</td>\n",
       "      <td>291.0</td>\n",
       "      <td>94107</td>\n",
       "    </tr>\n",
       "    <tr>\n",
       "      <th>2</th>\n",
       "      <td>8/31/2013</td>\n",
       "      <td>71.0</td>\n",
       "      <td>64.0</td>\n",
       "      <td>57.0</td>\n",
       "      <td>57.0</td>\n",
       "      <td>56.0</td>\n",
       "      <td>54.0</td>\n",
       "      <td>93.0</td>\n",
       "      <td>75.0</td>\n",
       "      <td>57.0</td>\n",
       "      <td>...</td>\n",
       "      <td>10.0</td>\n",
       "      <td>10.0</td>\n",
       "      <td>26.0</td>\n",
       "      <td>15.0</td>\n",
       "      <td>31.0</td>\n",
       "      <td>0</td>\n",
       "      <td>4.0</td>\n",
       "      <td>NaN</td>\n",
       "      <td>284.0</td>\n",
       "      <td>94107</td>\n",
       "    </tr>\n",
       "    <tr>\n",
       "      <th>3</th>\n",
       "      <td>9/1/2013</td>\n",
       "      <td>74.0</td>\n",
       "      <td>66.0</td>\n",
       "      <td>58.0</td>\n",
       "      <td>60.0</td>\n",
       "      <td>56.0</td>\n",
       "      <td>53.0</td>\n",
       "      <td>87.0</td>\n",
       "      <td>68.0</td>\n",
       "      <td>49.0</td>\n",
       "      <td>...</td>\n",
       "      <td>10.0</td>\n",
       "      <td>10.0</td>\n",
       "      <td>25.0</td>\n",
       "      <td>13.0</td>\n",
       "      <td>29.0</td>\n",
       "      <td>0</td>\n",
       "      <td>4.0</td>\n",
       "      <td>NaN</td>\n",
       "      <td>284.0</td>\n",
       "      <td>94107</td>\n",
       "    </tr>\n",
       "    <tr>\n",
       "      <th>4</th>\n",
       "      <td>9/2/2013</td>\n",
       "      <td>75.0</td>\n",
       "      <td>69.0</td>\n",
       "      <td>62.0</td>\n",
       "      <td>61.0</td>\n",
       "      <td>60.0</td>\n",
       "      <td>58.0</td>\n",
       "      <td>93.0</td>\n",
       "      <td>77.0</td>\n",
       "      <td>61.0</td>\n",
       "      <td>...</td>\n",
       "      <td>10.0</td>\n",
       "      <td>6.0</td>\n",
       "      <td>23.0</td>\n",
       "      <td>12.0</td>\n",
       "      <td>30.0</td>\n",
       "      <td>0</td>\n",
       "      <td>6.0</td>\n",
       "      <td>NaN</td>\n",
       "      <td>277.0</td>\n",
       "      <td>94107</td>\n",
       "    </tr>\n",
       "  </tbody>\n",
       "</table>\n",
       "<p>5 rows × 24 columns</p>\n",
       "</div>"
      ],
      "text/plain": [
       "        date  max_temperature_f  mean_temperature_f  min_temperature_f  \\\n",
       "0  8/29/2013               74.0                68.0               61.0   \n",
       "1  8/30/2013               78.0                69.0               60.0   \n",
       "2  8/31/2013               71.0                64.0               57.0   \n",
       "3   9/1/2013               74.0                66.0               58.0   \n",
       "4   9/2/2013               75.0                69.0               62.0   \n",
       "\n",
       "   max_dew_point_f  mean_dew_point_f  min_dew_point_f  max_humidity  \\\n",
       "0             61.0              58.0             56.0          93.0   \n",
       "1             61.0              58.0             56.0          90.0   \n",
       "2             57.0              56.0             54.0          93.0   \n",
       "3             60.0              56.0             53.0          87.0   \n",
       "4             61.0              60.0             58.0          93.0   \n",
       "\n",
       "   mean_humidity  min_humidity   ...     mean_visibility_miles  \\\n",
       "0           75.0          57.0   ...                      10.0   \n",
       "1           70.0          50.0   ...                      10.0   \n",
       "2           75.0          57.0   ...                      10.0   \n",
       "3           68.0          49.0   ...                      10.0   \n",
       "4           77.0          61.0   ...                      10.0   \n",
       "\n",
       "   min_visibility_miles  max_wind_Speed_mph  mean_wind_speed_mph  \\\n",
       "0                  10.0                23.0                 11.0   \n",
       "1                   7.0                29.0                 13.0   \n",
       "2                  10.0                26.0                 15.0   \n",
       "3                  10.0                25.0                 13.0   \n",
       "4                   6.0                23.0                 12.0   \n",
       "\n",
       "   max_gust_speed_mph  precipitation_inches  cloud_cover  events  \\\n",
       "0                28.0                     0          4.0     NaN   \n",
       "1                35.0                     0          2.0     NaN   \n",
       "2                31.0                     0          4.0     NaN   \n",
       "3                29.0                     0          4.0     NaN   \n",
       "4                30.0                     0          6.0     NaN   \n",
       "\n",
       "   wind_dir_degrees zip_code  \n",
       "0             286.0    94107  \n",
       "1             291.0    94107  \n",
       "2             284.0    94107  \n",
       "3             284.0    94107  \n",
       "4             277.0    94107  \n",
       "\n",
       "[5 rows x 24 columns]"
      ]
     },
     "execution_count": 16,
     "metadata": {},
     "output_type": "execute_result"
    }
   ],
   "source": [
    "weather.head()"
   ]
  },
  {
   "cell_type": "code",
   "execution_count": 17,
   "metadata": {
    "collapsed": false
   },
   "outputs": [
    {
     "data": {
      "text/plain": [
       "date                                 0\n",
       "max_temperature_f                    4\n",
       "mean_temperature_f                   4\n",
       "min_temperature_f                    4\n",
       "max_dew_point_f                     54\n",
       "mean_dew_point_f                    54\n",
       "min_dew_point_f                     54\n",
       "max_humidity                        54\n",
       "mean_humidity                       54\n",
       "min_humidity                        54\n",
       "max_sea_level_pressure_inches        1\n",
       "mean_sea_level_pressure_inches       1\n",
       "min_sea_level_pressure_inches        1\n",
       "max_visibility_miles                13\n",
       "mean_visibility_miles               13\n",
       "min_visibility_miles                13\n",
       "max_wind_Speed_mph                   1\n",
       "mean_wind_speed_mph                  1\n",
       "max_gust_speed_mph                 899\n",
       "precipitation_inches                 1\n",
       "cloud_cover                          1\n",
       "events                            3143\n",
       "wind_dir_degrees                     1\n",
       "zip_code                             0\n",
       "dtype: int64"
      ]
     },
     "execution_count": 17,
     "metadata": {},
     "output_type": "execute_result"
    }
   ],
   "source": [
    "weather.isnull().sum()"
   ]
  },
  {
   "cell_type": "code",
   "execution_count": 18,
   "metadata": {
    "collapsed": true
   },
   "outputs": [],
   "source": [
    "weather.date = pd.to_datetime(weather.date, format='%m/%d/%Y')"
   ]
  },
  {
   "cell_type": "code",
   "execution_count": 19,
   "metadata": {
    "collapsed": false
   },
   "outputs": [
    {
     "name": "stdout",
     "output_type": "stream",
     "text": [
      "(733, 2)\n",
      "(3665, 24)\n"
     ]
    }
   ],
   "source": [
    "#The weather data frame is 5 times as long as the train data frame, therefore there are 5 entries per date.\n",
    "print train.shape\n",
    "print weather.shape"
   ]
  },
  {
   "cell_type": "code",
   "execution_count": 20,
   "metadata": {
    "collapsed": false
   },
   "outputs": [
    {
     "data": {
      "text/plain": [
       "array([94107, 94063, 94301, 94041, 95113])"
      ]
     },
     "execution_count": 20,
     "metadata": {},
     "output_type": "execute_result"
    }
   ],
   "source": [
    "#It seems we have one entry per zip code\n",
    "weather.zip_code.unique()"
   ]
  },
  {
   "cell_type": "code",
   "execution_count": 21,
   "metadata": {
    "collapsed": false
   },
   "outputs": [
    {
     "name": "stdout",
     "output_type": "stream",
     "text": [
      "date                                0\n",
      "max_temperature_f                   0\n",
      "mean_temperature_f                  0\n",
      "min_temperature_f                   0\n",
      "max_dew_point_f                     0\n",
      "mean_dew_point_f                    0\n",
      "min_dew_point_f                     0\n",
      "max_humidity                        0\n",
      "mean_humidity                       0\n",
      "min_humidity                        0\n",
      "max_sea_level_pressure_inches       0\n",
      "mean_sea_level_pressure_inches      0\n",
      "min_sea_level_pressure_inches       0\n",
      "max_visibility_miles                0\n",
      "mean_visibility_miles               0\n",
      "min_visibility_miles                0\n",
      "max_wind_Speed_mph                  0\n",
      "mean_wind_speed_mph                 0\n",
      "max_gust_speed_mph                 13\n",
      "precipitation_inches                0\n",
      "cloud_cover                         0\n",
      "events                            574\n",
      "wind_dir_degrees                    0\n",
      "zip_code                            0\n",
      "dtype: int64\n",
      "\n",
      "date                                0\n",
      "max_temperature_f                   0\n",
      "mean_temperature_f                  0\n",
      "min_temperature_f                   0\n",
      "max_dew_point_f                     0\n",
      "mean_dew_point_f                    0\n",
      "min_dew_point_f                     0\n",
      "max_humidity                        0\n",
      "mean_humidity                       0\n",
      "min_humidity                        0\n",
      "max_sea_level_pressure_inches       0\n",
      "mean_sea_level_pressure_inches      0\n",
      "min_sea_level_pressure_inches       0\n",
      "max_visibility_miles                0\n",
      "mean_visibility_miles               0\n",
      "min_visibility_miles                0\n",
      "max_wind_Speed_mph                  0\n",
      "mean_wind_speed_mph                 0\n",
      "max_gust_speed_mph                412\n",
      "precipitation_inches                0\n",
      "cloud_cover                         0\n",
      "events                            639\n",
      "wind_dir_degrees                    0\n",
      "zip_code                            0\n",
      "dtype: int64\n",
      "\n",
      "date                                0\n",
      "max_temperature_f                   1\n",
      "mean_temperature_f                  1\n",
      "min_temperature_f                   1\n",
      "max_dew_point_f                    51\n",
      "mean_dew_point_f                   51\n",
      "min_dew_point_f                    51\n",
      "max_humidity                       51\n",
      "mean_humidity                      51\n",
      "min_humidity                       51\n",
      "max_sea_level_pressure_inches       1\n",
      "mean_sea_level_pressure_inches      1\n",
      "min_sea_level_pressure_inches       1\n",
      "max_visibility_miles               13\n",
      "mean_visibility_miles              13\n",
      "min_visibility_miles               13\n",
      "max_wind_Speed_mph                  1\n",
      "mean_wind_speed_mph                 1\n",
      "max_gust_speed_mph                453\n",
      "precipitation_inches                1\n",
      "cloud_cover                         1\n",
      "events                            653\n",
      "wind_dir_degrees                    1\n",
      "zip_code                            0\n",
      "dtype: int64\n",
      "\n",
      "date                                0\n",
      "max_temperature_f                   3\n",
      "mean_temperature_f                  3\n",
      "min_temperature_f                   3\n",
      "max_dew_point_f                     3\n",
      "mean_dew_point_f                    3\n",
      "min_dew_point_f                     3\n",
      "max_humidity                        3\n",
      "mean_humidity                       3\n",
      "min_humidity                        3\n",
      "max_sea_level_pressure_inches       0\n",
      "mean_sea_level_pressure_inches      0\n",
      "min_sea_level_pressure_inches       0\n",
      "max_visibility_miles                0\n",
      "mean_visibility_miles               0\n",
      "min_visibility_miles                0\n",
      "max_wind_Speed_mph                  0\n",
      "mean_wind_speed_mph                 0\n",
      "max_gust_speed_mph                  9\n",
      "precipitation_inches                0\n",
      "cloud_cover                         0\n",
      "events                            639\n",
      "wind_dir_degrees                    0\n",
      "zip_code                            0\n",
      "dtype: int64\n",
      "\n",
      "date                                0\n",
      "max_temperature_f                   0\n",
      "mean_temperature_f                  0\n",
      "min_temperature_f                   0\n",
      "max_dew_point_f                     0\n",
      "mean_dew_point_f                    0\n",
      "min_dew_point_f                     0\n",
      "max_humidity                        0\n",
      "mean_humidity                       0\n",
      "min_humidity                        0\n",
      "max_sea_level_pressure_inches       0\n",
      "mean_sea_level_pressure_inches      0\n",
      "min_sea_level_pressure_inches       0\n",
      "max_visibility_miles                0\n",
      "mean_visibility_miles               0\n",
      "min_visibility_miles                0\n",
      "max_wind_Speed_mph                  0\n",
      "mean_wind_speed_mph                 0\n",
      "max_gust_speed_mph                 12\n",
      "precipitation_inches                0\n",
      "cloud_cover                         0\n",
      "events                            638\n",
      "wind_dir_degrees                    0\n",
      "zip_code                            0\n",
      "dtype: int64\n",
      "\n"
     ]
    }
   ],
   "source": [
    "#Let's see which zip code has the cleanest date.\n",
    "for zc in weather.zip_code.unique():\n",
    "    print weather[weather.zip_code == zc].isnull().sum()\n",
    "    print"
   ]
  },
  {
   "cell_type": "code",
   "execution_count": 22,
   "metadata": {
    "collapsed": false
   },
   "outputs": [],
   "source": [
    "#I used this zip code for my other report as well. It is missing only a bit of data and is formatted rather well.\n",
    "weather = weather[weather.zip_code == 94107]"
   ]
  },
  {
   "cell_type": "code",
   "execution_count": 23,
   "metadata": {
    "collapsed": false
   },
   "outputs": [
    {
     "data": {
      "text/plain": [
       "array([nan, 'Fog', 'Rain', 'Fog-Rain', 'rain', 'Rain-Thunderstorm'], dtype=object)"
      ]
     },
     "execution_count": 23,
     "metadata": {},
     "output_type": "execute_result"
    }
   ],
   "source": [
    "weather.events.unique()"
   ]
  },
  {
   "cell_type": "code",
   "execution_count": 24,
   "metadata": {
    "collapsed": true
   },
   "outputs": [],
   "source": [
    "weather.loc[weather.events == 'rain', 'events'] = \"Rain\"\n",
    "weather.loc[weather.events.isnull(), 'events'] = \"Normal\""
   ]
  },
  {
   "cell_type": "code",
   "execution_count": 25,
   "metadata": {
    "collapsed": false,
    "scrolled": true
   },
   "outputs": [
    {
     "data": {
      "text/plain": [
       "0                  Normal\n",
       "1                  Normal\n",
       "2                  Normal\n",
       "3                  Normal\n",
       "4                  Normal\n",
       "5                  Normal\n",
       "6                  Normal\n",
       "7                  Normal\n",
       "8                  Normal\n",
       "9                  Normal\n",
       "10                 Normal\n",
       "11                 Normal\n",
       "12                 Normal\n",
       "13                 Normal\n",
       "14                    Fog\n",
       "15                 Normal\n",
       "16                 Normal\n",
       "17                 Normal\n",
       "18                 Normal\n",
       "19                 Normal\n",
       "20                 Normal\n",
       "21                 Normal\n",
       "22                 Normal\n",
       "23                   Rain\n",
       "24                 Normal\n",
       "25                 Normal\n",
       "26                 Normal\n",
       "27                 Normal\n",
       "28                 Normal\n",
       "29                 Normal\n",
       "              ...        \n",
       "2175               Normal\n",
       "2176               Normal\n",
       "2177               Normal\n",
       "2178               Normal\n",
       "2179    Rain-Thunderstorm\n",
       "2180               Normal\n",
       "2181               Normal\n",
       "2182               Normal\n",
       "2183               Normal\n",
       "2184               Normal\n",
       "2185               Normal\n",
       "2186               Normal\n",
       "2187               Normal\n",
       "2188               Normal\n",
       "2189               Normal\n",
       "2190               Normal\n",
       "2191               Normal\n",
       "2192               Normal\n",
       "2193               Normal\n",
       "2194               Normal\n",
       "2195               Normal\n",
       "2196               Normal\n",
       "2197               Normal\n",
       "2198               Normal\n",
       "2199               Normal\n",
       "2200               Normal\n",
       "2201               Normal\n",
       "2202                 Rain\n",
       "2203               Normal\n",
       "2204               Normal\n",
       "Name: events, dtype: object"
      ]
     },
     "execution_count": 25,
     "metadata": {},
     "output_type": "execute_result"
    }
   ],
   "source": [
    "weather.events"
   ]
  },
  {
   "cell_type": "code",
   "execution_count": 26,
   "metadata": {
    "collapsed": false,
    "scrolled": true
   },
   "outputs": [],
   "source": [
    "events = pd.get_dummies(weather.events)"
   ]
  },
  {
   "cell_type": "code",
   "execution_count": 27,
   "metadata": {
    "collapsed": false,
    "scrolled": true
   },
   "outputs": [],
   "source": [
    "weather = weather.merge(events, left_index = True, right_index = True)"
   ]
  },
  {
   "cell_type": "code",
   "execution_count": 28,
   "metadata": {
    "collapsed": false
   },
   "outputs": [],
   "source": [
    "#Remove features we don't need\n",
    "weather = weather.drop(['events','zip_code'],1)"
   ]
  },
  {
   "cell_type": "code",
   "execution_count": 29,
   "metadata": {
    "collapsed": false,
    "scrolled": true
   },
   "outputs": [
    {
     "name": "stdout",
     "output_type": "stream",
     "text": [
      "(0.78884768322591059, 6.0272032072715235e-154)\n"
     ]
    }
   ],
   "source": [
    "#max_wind and max_gust are well correlated, so we can use max_wind to help fill the null values of max_gust\n",
    "print pearsonr(weather.max_wind_Speed_mph[weather.max_gust_speed_mph >= 0], \n",
    "               weather.max_gust_speed_mph[weather.max_gust_speed_mph >= 0])"
   ]
  },
  {
   "cell_type": "code",
   "execution_count": 30,
   "metadata": {
    "collapsed": false
   },
   "outputs": [],
   "source": [
    "#For each value of max_wind, find the median max_gust and use that to fill the null values.\n",
    "weather.loc[weather.max_gust_speed_mph.isnull(), 'max_gust_speed_mph'] = weather.groupby('max_wind_Speed_mph').max_gust_speed_mph.apply(lambda x: x.fillna(x.median()))"
   ]
  },
  {
   "cell_type": "code",
   "execution_count": 31,
   "metadata": {
    "collapsed": false
   },
   "outputs": [
    {
     "data": {
      "text/plain": [
       "date                              0\n",
       "max_temperature_f                 0\n",
       "mean_temperature_f                0\n",
       "min_temperature_f                 0\n",
       "max_dew_point_f                   0\n",
       "mean_dew_point_f                  0\n",
       "min_dew_point_f                   0\n",
       "max_humidity                      0\n",
       "mean_humidity                     0\n",
       "min_humidity                      0\n",
       "max_sea_level_pressure_inches     0\n",
       "mean_sea_level_pressure_inches    0\n",
       "min_sea_level_pressure_inches     0\n",
       "max_visibility_miles              0\n",
       "mean_visibility_miles             0\n",
       "min_visibility_miles              0\n",
       "max_wind_Speed_mph                0\n",
       "mean_wind_speed_mph               0\n",
       "max_gust_speed_mph                0\n",
       "precipitation_inches              0\n",
       "cloud_cover                       0\n",
       "wind_dir_degrees                  0\n",
       "Fog                               0\n",
       "Fog-Rain                          0\n",
       "Normal                            0\n",
       "Rain                              0\n",
       "Rain-Thunderstorm                 0\n",
       "dtype: int64"
      ]
     },
     "execution_count": 31,
     "metadata": {},
     "output_type": "execute_result"
    }
   ],
   "source": [
    "weather.isnull().sum()"
   ]
  },
  {
   "cell_type": "code",
   "execution_count": 32,
   "metadata": {
    "collapsed": false
   },
   "outputs": [],
   "source": [
    "#Change this feature from a string to numeric.\n",
    "#Use errors = 'coerce' because some values currently equal 'T' and we want them to become NAs.\n",
    "weather.precipitation_inches = pd.to_numeric(weather.precipitation_inches, errors = 'coerce')"
   ]
  },
  {
   "cell_type": "code",
   "execution_count": 33,
   "metadata": {
    "collapsed": false
   },
   "outputs": [],
   "source": [
    "#Change null values to the median, of values > 0, because T, I think, means True. \n",
    "#Therefore we want to find the median amount of precipitation on days when it rained.\n",
    "weather.loc[weather.precipitation_inches.isnull(), \n",
    "            'precipitation_inches'] = weather[weather.precipitation_inches.notnull()].precipitation_inches.median()"
   ]
  },
  {
   "cell_type": "code",
   "execution_count": 34,
   "metadata": {
    "collapsed": false
   },
   "outputs": [],
   "source": [
    "train = train.merge(weather, on = train.date)"
   ]
  },
  {
   "cell_type": "code",
   "execution_count": 35,
   "metadata": {
    "collapsed": false
   },
   "outputs": [
    {
     "data": {
      "text/html": [
       "<div>\n",
       "<table border=\"1\" class=\"dataframe\">\n",
       "  <thead>\n",
       "    <tr style=\"text-align: right;\">\n",
       "      <th></th>\n",
       "      <th>date_x</th>\n",
       "      <th>trips</th>\n",
       "      <th>date_y</th>\n",
       "      <th>max_temperature_f</th>\n",
       "      <th>mean_temperature_f</th>\n",
       "      <th>min_temperature_f</th>\n",
       "      <th>max_dew_point_f</th>\n",
       "      <th>mean_dew_point_f</th>\n",
       "      <th>min_dew_point_f</th>\n",
       "      <th>max_humidity</th>\n",
       "      <th>...</th>\n",
       "      <th>mean_wind_speed_mph</th>\n",
       "      <th>max_gust_speed_mph</th>\n",
       "      <th>precipitation_inches</th>\n",
       "      <th>cloud_cover</th>\n",
       "      <th>wind_dir_degrees</th>\n",
       "      <th>Fog</th>\n",
       "      <th>Fog-Rain</th>\n",
       "      <th>Normal</th>\n",
       "      <th>Rain</th>\n",
       "      <th>Rain-Thunderstorm</th>\n",
       "    </tr>\n",
       "  </thead>\n",
       "  <tbody>\n",
       "    <tr>\n",
       "      <th>0</th>\n",
       "      <td>2013-08-29</td>\n",
       "      <td>742</td>\n",
       "      <td>2013-08-29</td>\n",
       "      <td>74.0</td>\n",
       "      <td>68.0</td>\n",
       "      <td>61.0</td>\n",
       "      <td>61.0</td>\n",
       "      <td>58.0</td>\n",
       "      <td>56.0</td>\n",
       "      <td>93.0</td>\n",
       "      <td>...</td>\n",
       "      <td>11.0</td>\n",
       "      <td>28.0</td>\n",
       "      <td>0.0</td>\n",
       "      <td>4.0</td>\n",
       "      <td>286.0</td>\n",
       "      <td>0.0</td>\n",
       "      <td>0.0</td>\n",
       "      <td>1.0</td>\n",
       "      <td>0.0</td>\n",
       "      <td>0.0</td>\n",
       "    </tr>\n",
       "    <tr>\n",
       "      <th>1</th>\n",
       "      <td>2013-08-30</td>\n",
       "      <td>699</td>\n",
       "      <td>2013-08-30</td>\n",
       "      <td>78.0</td>\n",
       "      <td>69.0</td>\n",
       "      <td>60.0</td>\n",
       "      <td>61.0</td>\n",
       "      <td>58.0</td>\n",
       "      <td>56.0</td>\n",
       "      <td>90.0</td>\n",
       "      <td>...</td>\n",
       "      <td>13.0</td>\n",
       "      <td>35.0</td>\n",
       "      <td>0.0</td>\n",
       "      <td>2.0</td>\n",
       "      <td>291.0</td>\n",
       "      <td>0.0</td>\n",
       "      <td>0.0</td>\n",
       "      <td>1.0</td>\n",
       "      <td>0.0</td>\n",
       "      <td>0.0</td>\n",
       "    </tr>\n",
       "    <tr>\n",
       "      <th>2</th>\n",
       "      <td>2013-08-31</td>\n",
       "      <td>628</td>\n",
       "      <td>2013-08-31</td>\n",
       "      <td>71.0</td>\n",
       "      <td>64.0</td>\n",
       "      <td>57.0</td>\n",
       "      <td>57.0</td>\n",
       "      <td>56.0</td>\n",
       "      <td>54.0</td>\n",
       "      <td>93.0</td>\n",
       "      <td>...</td>\n",
       "      <td>15.0</td>\n",
       "      <td>31.0</td>\n",
       "      <td>0.0</td>\n",
       "      <td>4.0</td>\n",
       "      <td>284.0</td>\n",
       "      <td>0.0</td>\n",
       "      <td>0.0</td>\n",
       "      <td>1.0</td>\n",
       "      <td>0.0</td>\n",
       "      <td>0.0</td>\n",
       "    </tr>\n",
       "    <tr>\n",
       "      <th>3</th>\n",
       "      <td>2013-09-01</td>\n",
       "      <td>683</td>\n",
       "      <td>2013-09-01</td>\n",
       "      <td>74.0</td>\n",
       "      <td>66.0</td>\n",
       "      <td>58.0</td>\n",
       "      <td>60.0</td>\n",
       "      <td>56.0</td>\n",
       "      <td>53.0</td>\n",
       "      <td>87.0</td>\n",
       "      <td>...</td>\n",
       "      <td>13.0</td>\n",
       "      <td>29.0</td>\n",
       "      <td>0.0</td>\n",
       "      <td>4.0</td>\n",
       "      <td>284.0</td>\n",
       "      <td>0.0</td>\n",
       "      <td>0.0</td>\n",
       "      <td>1.0</td>\n",
       "      <td>0.0</td>\n",
       "      <td>0.0</td>\n",
       "    </tr>\n",
       "    <tr>\n",
       "      <th>4</th>\n",
       "      <td>2013-09-02</td>\n",
       "      <td>652</td>\n",
       "      <td>2013-09-02</td>\n",
       "      <td>75.0</td>\n",
       "      <td>69.0</td>\n",
       "      <td>62.0</td>\n",
       "      <td>61.0</td>\n",
       "      <td>60.0</td>\n",
       "      <td>58.0</td>\n",
       "      <td>93.0</td>\n",
       "      <td>...</td>\n",
       "      <td>12.0</td>\n",
       "      <td>30.0</td>\n",
       "      <td>0.0</td>\n",
       "      <td>6.0</td>\n",
       "      <td>277.0</td>\n",
       "      <td>0.0</td>\n",
       "      <td>0.0</td>\n",
       "      <td>1.0</td>\n",
       "      <td>0.0</td>\n",
       "      <td>0.0</td>\n",
       "    </tr>\n",
       "  </tbody>\n",
       "</table>\n",
       "<p>5 rows × 29 columns</p>\n",
       "</div>"
      ],
      "text/plain": [
       "       date_x  trips     date_y  max_temperature_f  mean_temperature_f  \\\n",
       "0  2013-08-29    742 2013-08-29               74.0                68.0   \n",
       "1  2013-08-30    699 2013-08-30               78.0                69.0   \n",
       "2  2013-08-31    628 2013-08-31               71.0                64.0   \n",
       "3  2013-09-01    683 2013-09-01               74.0                66.0   \n",
       "4  2013-09-02    652 2013-09-02               75.0                69.0   \n",
       "\n",
       "   min_temperature_f  max_dew_point_f  mean_dew_point_f  min_dew_point_f  \\\n",
       "0               61.0             61.0              58.0             56.0   \n",
       "1               60.0             61.0              58.0             56.0   \n",
       "2               57.0             57.0              56.0             54.0   \n",
       "3               58.0             60.0              56.0             53.0   \n",
       "4               62.0             61.0              60.0             58.0   \n",
       "\n",
       "   max_humidity        ...          mean_wind_speed_mph  max_gust_speed_mph  \\\n",
       "0          93.0        ...                         11.0                28.0   \n",
       "1          90.0        ...                         13.0                35.0   \n",
       "2          93.0        ...                         15.0                31.0   \n",
       "3          87.0        ...                         13.0                29.0   \n",
       "4          93.0        ...                         12.0                30.0   \n",
       "\n",
       "   precipitation_inches  cloud_cover  wind_dir_degrees  Fog  Fog-Rain  Normal  \\\n",
       "0                   0.0          4.0             286.0  0.0       0.0     1.0   \n",
       "1                   0.0          2.0             291.0  0.0       0.0     1.0   \n",
       "2                   0.0          4.0             284.0  0.0       0.0     1.0   \n",
       "3                   0.0          4.0             284.0  0.0       0.0     1.0   \n",
       "4                   0.0          6.0             277.0  0.0       0.0     1.0   \n",
       "\n",
       "   Rain  Rain-Thunderstorm  \n",
       "0   0.0                0.0  \n",
       "1   0.0                0.0  \n",
       "2   0.0                0.0  \n",
       "3   0.0                0.0  \n",
       "4   0.0                0.0  \n",
       "\n",
       "[5 rows x 29 columns]"
      ]
     },
     "execution_count": 35,
     "metadata": {},
     "output_type": "execute_result"
    }
   ],
   "source": [
    "#Need to remove the extra date columns, otherwise good!\n",
    "train.head()"
   ]
  },
  {
   "cell_type": "code",
   "execution_count": 36,
   "metadata": {
    "collapsed": true
   },
   "outputs": [],
   "source": [
    "train['date'] = train['date_x']\n",
    "train.drop(['date_y','date_x'],1, inplace= True)"
   ]
  },
  {
   "cell_type": "markdown",
   "metadata": {},
   "source": [
    "## Explore the Stations data frame"
   ]
  },
  {
   "cell_type": "code",
   "execution_count": 37,
   "metadata": {
    "collapsed": false
   },
   "outputs": [
    {
     "data": {
      "text/html": [
       "<div>\n",
       "<table border=\"1\" class=\"dataframe\">\n",
       "  <thead>\n",
       "    <tr style=\"text-align: right;\">\n",
       "      <th></th>\n",
       "      <th>id</th>\n",
       "      <th>name</th>\n",
       "      <th>lat</th>\n",
       "      <th>long</th>\n",
       "      <th>dock_count</th>\n",
       "      <th>city</th>\n",
       "      <th>installation_date</th>\n",
       "    </tr>\n",
       "  </thead>\n",
       "  <tbody>\n",
       "    <tr>\n",
       "      <th>0</th>\n",
       "      <td>2</td>\n",
       "      <td>San Jose Diridon Caltrain Station</td>\n",
       "      <td>37.329732</td>\n",
       "      <td>-121.901782</td>\n",
       "      <td>27</td>\n",
       "      <td>San Jose</td>\n",
       "      <td>8/6/2013</td>\n",
       "    </tr>\n",
       "    <tr>\n",
       "      <th>1</th>\n",
       "      <td>3</td>\n",
       "      <td>San Jose Civic Center</td>\n",
       "      <td>37.330698</td>\n",
       "      <td>-121.888979</td>\n",
       "      <td>15</td>\n",
       "      <td>San Jose</td>\n",
       "      <td>8/5/2013</td>\n",
       "    </tr>\n",
       "    <tr>\n",
       "      <th>2</th>\n",
       "      <td>4</td>\n",
       "      <td>Santa Clara at Almaden</td>\n",
       "      <td>37.333988</td>\n",
       "      <td>-121.894902</td>\n",
       "      <td>11</td>\n",
       "      <td>San Jose</td>\n",
       "      <td>8/6/2013</td>\n",
       "    </tr>\n",
       "    <tr>\n",
       "      <th>3</th>\n",
       "      <td>5</td>\n",
       "      <td>Adobe on Almaden</td>\n",
       "      <td>37.331415</td>\n",
       "      <td>-121.893200</td>\n",
       "      <td>19</td>\n",
       "      <td>San Jose</td>\n",
       "      <td>8/5/2013</td>\n",
       "    </tr>\n",
       "    <tr>\n",
       "      <th>4</th>\n",
       "      <td>6</td>\n",
       "      <td>San Pedro Square</td>\n",
       "      <td>37.336721</td>\n",
       "      <td>-121.894074</td>\n",
       "      <td>15</td>\n",
       "      <td>San Jose</td>\n",
       "      <td>8/7/2013</td>\n",
       "    </tr>\n",
       "  </tbody>\n",
       "</table>\n",
       "</div>"
      ],
      "text/plain": [
       "   id                               name        lat        long  dock_count  \\\n",
       "0   2  San Jose Diridon Caltrain Station  37.329732 -121.901782          27   \n",
       "1   3              San Jose Civic Center  37.330698 -121.888979          15   \n",
       "2   4             Santa Clara at Almaden  37.333988 -121.894902          11   \n",
       "3   5                   Adobe on Almaden  37.331415 -121.893200          19   \n",
       "4   6                   San Pedro Square  37.336721 -121.894074          15   \n",
       "\n",
       "       city installation_date  \n",
       "0  San Jose          8/6/2013  \n",
       "1  San Jose          8/5/2013  \n",
       "2  San Jose          8/6/2013  \n",
       "3  San Jose          8/5/2013  \n",
       "4  San Jose          8/7/2013  "
      ]
     },
     "execution_count": 37,
     "metadata": {},
     "output_type": "execute_result"
    }
   ],
   "source": [
    "stations.head()"
   ]
  },
  {
   "cell_type": "code",
   "execution_count": 38,
   "metadata": {
    "collapsed": false,
    "scrolled": true
   },
   "outputs": [
    {
     "name": "stdout",
     "output_type": "stream",
     "text": [
      "70\n",
      "(70, 7)\n"
     ]
    }
   ],
   "source": [
    "#Good, each stations is only listed once\n",
    "print len(stations.name.unique())\n",
    "print stations.shape"
   ]
  },
  {
   "cell_type": "code",
   "execution_count": 39,
   "metadata": {
    "collapsed": false
   },
   "outputs": [],
   "source": [
    "stations.installation_date = pd.to_datetime(stations.installation_date, format = \"%m/%d/%Y\").dt.date"
   ]
  },
  {
   "cell_type": "code",
   "execution_count": 40,
   "metadata": {
    "collapsed": false
   },
   "outputs": [
    {
     "name": "stdout",
     "output_type": "stream",
     "text": [
      "2013-08-05\n",
      "2014-04-09\n"
     ]
    }
   ],
   "source": [
    "#The min date is before any in the train data frame, therefore stations were installed before the first trips (good).\n",
    "#The max date is before the end of the train data frame, therefore the service has not been adding new stations recently.\n",
    "print stations.installation_date.min()\n",
    "print stations.installation_date.max()"
   ]
  },
  {
   "cell_type": "code",
   "execution_count": 41,
   "metadata": {
    "collapsed": false
   },
   "outputs": [],
   "source": [
    "#For each day in train.date, find the number of docks (parking spots for individual bikes) that were installed \n",
    "#on or before that day.\n",
    "total_docks = []\n",
    "for day in train.date:\n",
    "    total_docks.append(sum(stations[stations.installation_date <= day].dock_count))"
   ]
  },
  {
   "cell_type": "code",
   "execution_count": 42,
   "metadata": {
    "collapsed": false
   },
   "outputs": [],
   "source": [
    "train['total_docks'] = total_docks"
   ]
  },
  {
   "cell_type": "markdown",
   "metadata": {},
   "source": [
    "## Add Special Date Features"
   ]
  },
  {
   "cell_type": "code",
   "execution_count": 43,
   "metadata": {
    "collapsed": false
   },
   "outputs": [],
   "source": [
    "#Find all of the holidays during our time span\n",
    "calendar = USFederalHolidayCalendar()\n",
    "holidays = calendar.holidays(start=train.date.min(), end=train.date.max())"
   ]
  },
  {
   "cell_type": "code",
   "execution_count": 44,
   "metadata": {
    "collapsed": false
   },
   "outputs": [
    {
     "data": {
      "text/plain": [
       "DatetimeIndex(['2013-09-02', '2013-10-14', '2013-11-11', '2013-11-28',\n",
       "               '2013-12-25', '2014-01-01', '2014-01-20', '2014-02-17',\n",
       "               '2014-05-26', '2014-07-04', '2014-09-01', '2014-10-13',\n",
       "               '2014-11-11', '2014-11-27', '2014-12-25', '2015-01-01',\n",
       "               '2015-01-19', '2015-02-16', '2015-05-25', '2015-07-03'],\n",
       "              dtype='datetime64[ns]', freq=None)"
      ]
     },
     "execution_count": 44,
     "metadata": {},
     "output_type": "execute_result"
    }
   ],
   "source": [
    "holidays"
   ]
  },
  {
   "cell_type": "code",
   "execution_count": 45,
   "metadata": {
    "collapsed": false
   },
   "outputs": [],
   "source": [
    "#Find all of the business days in our time span\n",
    "us_bd = CustomBusinessDay(calendar=USFederalHolidayCalendar())\n",
    "business_days = pd.DatetimeIndex(start=train.date.min(), end=train.date.max(), freq=us_bd)"
   ]
  },
  {
   "cell_type": "code",
   "execution_count": 46,
   "metadata": {
    "collapsed": false
   },
   "outputs": [
    {
     "data": {
      "text/plain": [
       "DatetimeIndex(['2013-08-29', '2013-08-30', '2013-09-03', '2013-09-04',\n",
       "               '2013-09-05', '2013-09-06', '2013-09-09', '2013-09-10',\n",
       "               '2013-09-11', '2013-09-12',\n",
       "               ...\n",
       "               '2015-08-18', '2015-08-19', '2015-08-20', '2015-08-21',\n",
       "               '2015-08-24', '2015-08-25', '2015-08-26', '2015-08-27',\n",
       "               '2015-08-28', '2015-08-31'],\n",
       "              dtype='datetime64[ns]', length=503, freq='C')"
      ]
     },
     "execution_count": 46,
     "metadata": {},
     "output_type": "execute_result"
    }
   ],
   "source": [
    "business_days"
   ]
  },
  {
   "cell_type": "code",
   "execution_count": 47,
   "metadata": {
    "collapsed": false,
    "scrolled": true
   },
   "outputs": [],
   "source": [
    "business_days = pd.to_datetime(business_days, format='%Y/%m/%d').date\n",
    "holidays = pd.to_datetime(holidays, format='%Y/%m/%d').date"
   ]
  },
  {
   "cell_type": "code",
   "execution_count": 48,
   "metadata": {
    "collapsed": false,
    "scrolled": true
   },
   "outputs": [],
   "source": [
    "#A 'business_day' or 'holiday' is a date within either of the respected lists.\n",
    "train['business_day'] = train.date.isin(business_days)\n",
    "train['holiday'] = train.date.isin(holidays)"
   ]
  },
  {
   "cell_type": "code",
   "execution_count": 49,
   "metadata": {
    "collapsed": false
   },
   "outputs": [
    {
     "data": {
      "text/html": [
       "<div>\n",
       "<table border=\"1\" class=\"dataframe\">\n",
       "  <thead>\n",
       "    <tr style=\"text-align: right;\">\n",
       "      <th></th>\n",
       "      <th>trips</th>\n",
       "      <th>max_temperature_f</th>\n",
       "      <th>mean_temperature_f</th>\n",
       "      <th>min_temperature_f</th>\n",
       "      <th>max_dew_point_f</th>\n",
       "      <th>mean_dew_point_f</th>\n",
       "      <th>min_dew_point_f</th>\n",
       "      <th>max_humidity</th>\n",
       "      <th>mean_humidity</th>\n",
       "      <th>min_humidity</th>\n",
       "      <th>...</th>\n",
       "      <th>wind_dir_degrees</th>\n",
       "      <th>Fog</th>\n",
       "      <th>Fog-Rain</th>\n",
       "      <th>Normal</th>\n",
       "      <th>Rain</th>\n",
       "      <th>Rain-Thunderstorm</th>\n",
       "      <th>date</th>\n",
       "      <th>total_docks</th>\n",
       "      <th>business_day</th>\n",
       "      <th>holiday</th>\n",
       "    </tr>\n",
       "  </thead>\n",
       "  <tbody>\n",
       "    <tr>\n",
       "      <th>0</th>\n",
       "      <td>742</td>\n",
       "      <td>74.0</td>\n",
       "      <td>68.0</td>\n",
       "      <td>61.0</td>\n",
       "      <td>61.0</td>\n",
       "      <td>58.0</td>\n",
       "      <td>56.0</td>\n",
       "      <td>93.0</td>\n",
       "      <td>75.0</td>\n",
       "      <td>57.0</td>\n",
       "      <td>...</td>\n",
       "      <td>286.0</td>\n",
       "      <td>0.0</td>\n",
       "      <td>0.0</td>\n",
       "      <td>1.0</td>\n",
       "      <td>0.0</td>\n",
       "      <td>0.0</td>\n",
       "      <td>2013-08-29</td>\n",
       "      <td>1150</td>\n",
       "      <td>True</td>\n",
       "      <td>False</td>\n",
       "    </tr>\n",
       "    <tr>\n",
       "      <th>1</th>\n",
       "      <td>699</td>\n",
       "      <td>78.0</td>\n",
       "      <td>69.0</td>\n",
       "      <td>60.0</td>\n",
       "      <td>61.0</td>\n",
       "      <td>58.0</td>\n",
       "      <td>56.0</td>\n",
       "      <td>90.0</td>\n",
       "      <td>70.0</td>\n",
       "      <td>50.0</td>\n",
       "      <td>...</td>\n",
       "      <td>291.0</td>\n",
       "      <td>0.0</td>\n",
       "      <td>0.0</td>\n",
       "      <td>1.0</td>\n",
       "      <td>0.0</td>\n",
       "      <td>0.0</td>\n",
       "      <td>2013-08-30</td>\n",
       "      <td>1150</td>\n",
       "      <td>True</td>\n",
       "      <td>False</td>\n",
       "    </tr>\n",
       "    <tr>\n",
       "      <th>2</th>\n",
       "      <td>628</td>\n",
       "      <td>71.0</td>\n",
       "      <td>64.0</td>\n",
       "      <td>57.0</td>\n",
       "      <td>57.0</td>\n",
       "      <td>56.0</td>\n",
       "      <td>54.0</td>\n",
       "      <td>93.0</td>\n",
       "      <td>75.0</td>\n",
       "      <td>57.0</td>\n",
       "      <td>...</td>\n",
       "      <td>284.0</td>\n",
       "      <td>0.0</td>\n",
       "      <td>0.0</td>\n",
       "      <td>1.0</td>\n",
       "      <td>0.0</td>\n",
       "      <td>0.0</td>\n",
       "      <td>2013-08-31</td>\n",
       "      <td>1150</td>\n",
       "      <td>False</td>\n",
       "      <td>False</td>\n",
       "    </tr>\n",
       "    <tr>\n",
       "      <th>3</th>\n",
       "      <td>683</td>\n",
       "      <td>74.0</td>\n",
       "      <td>66.0</td>\n",
       "      <td>58.0</td>\n",
       "      <td>60.0</td>\n",
       "      <td>56.0</td>\n",
       "      <td>53.0</td>\n",
       "      <td>87.0</td>\n",
       "      <td>68.0</td>\n",
       "      <td>49.0</td>\n",
       "      <td>...</td>\n",
       "      <td>284.0</td>\n",
       "      <td>0.0</td>\n",
       "      <td>0.0</td>\n",
       "      <td>1.0</td>\n",
       "      <td>0.0</td>\n",
       "      <td>0.0</td>\n",
       "      <td>2013-09-01</td>\n",
       "      <td>1150</td>\n",
       "      <td>False</td>\n",
       "      <td>False</td>\n",
       "    </tr>\n",
       "    <tr>\n",
       "      <th>4</th>\n",
       "      <td>652</td>\n",
       "      <td>75.0</td>\n",
       "      <td>69.0</td>\n",
       "      <td>62.0</td>\n",
       "      <td>61.0</td>\n",
       "      <td>60.0</td>\n",
       "      <td>58.0</td>\n",
       "      <td>93.0</td>\n",
       "      <td>77.0</td>\n",
       "      <td>61.0</td>\n",
       "      <td>...</td>\n",
       "      <td>277.0</td>\n",
       "      <td>0.0</td>\n",
       "      <td>0.0</td>\n",
       "      <td>1.0</td>\n",
       "      <td>0.0</td>\n",
       "      <td>0.0</td>\n",
       "      <td>2013-09-02</td>\n",
       "      <td>1150</td>\n",
       "      <td>False</td>\n",
       "      <td>True</td>\n",
       "    </tr>\n",
       "  </tbody>\n",
       "</table>\n",
       "<p>5 rows × 31 columns</p>\n",
       "</div>"
      ],
      "text/plain": [
       "   trips  max_temperature_f  mean_temperature_f  min_temperature_f  \\\n",
       "0    742               74.0                68.0               61.0   \n",
       "1    699               78.0                69.0               60.0   \n",
       "2    628               71.0                64.0               57.0   \n",
       "3    683               74.0                66.0               58.0   \n",
       "4    652               75.0                69.0               62.0   \n",
       "\n",
       "   max_dew_point_f  mean_dew_point_f  min_dew_point_f  max_humidity  \\\n",
       "0             61.0              58.0             56.0          93.0   \n",
       "1             61.0              58.0             56.0          90.0   \n",
       "2             57.0              56.0             54.0          93.0   \n",
       "3             60.0              56.0             53.0          87.0   \n",
       "4             61.0              60.0             58.0          93.0   \n",
       "\n",
       "   mean_humidity  min_humidity   ...     wind_dir_degrees  Fog  Fog-Rain  \\\n",
       "0           75.0          57.0   ...                286.0  0.0       0.0   \n",
       "1           70.0          50.0   ...                291.0  0.0       0.0   \n",
       "2           75.0          57.0   ...                284.0  0.0       0.0   \n",
       "3           68.0          49.0   ...                284.0  0.0       0.0   \n",
       "4           77.0          61.0   ...                277.0  0.0       0.0   \n",
       "\n",
       "   Normal  Rain  Rain-Thunderstorm        date  total_docks  business_day  \\\n",
       "0     1.0   0.0                0.0  2013-08-29         1150          True   \n",
       "1     1.0   0.0                0.0  2013-08-30         1150          True   \n",
       "2     1.0   0.0                0.0  2013-08-31         1150         False   \n",
       "3     1.0   0.0                0.0  2013-09-01         1150         False   \n",
       "4     1.0   0.0                0.0  2013-09-02         1150         False   \n",
       "\n",
       "   holiday  \n",
       "0    False  \n",
       "1    False  \n",
       "2    False  \n",
       "3    False  \n",
       "4     True  \n",
       "\n",
       "[5 rows x 31 columns]"
      ]
     },
     "execution_count": 49,
     "metadata": {},
     "output_type": "execute_result"
    }
   ],
   "source": [
    "train.head()"
   ]
  },
  {
   "cell_type": "code",
   "execution_count": 50,
   "metadata": {
    "collapsed": false
   },
   "outputs": [],
   "source": [
    "#Convert True to 1 and False to 0\n",
    "train.business_day = train.business_day.map(lambda x: 1 if x == True else 0)\n",
    "train.holiday = train.holiday.map(lambda x: 1 if x == True else 0)"
   ]
  },
  {
   "cell_type": "code",
   "execution_count": 51,
   "metadata": {
    "collapsed": false
   },
   "outputs": [],
   "source": [
    "#Convert date to the important features, year, month, weekday (0 = Monday, 1 = Tuesday...)\n",
    "#We don't need day because what it represents changes every year.\n",
    "train['year'] = pd.to_datetime(train['date']).dt.year\n",
    "train['month'] = pd.to_datetime(train['date']).dt.month\n",
    "train['weekday'] = pd.to_datetime(train['date']).dt.weekday"
   ]
  },
  {
   "cell_type": "code",
   "execution_count": 52,
   "metadata": {
    "collapsed": true
   },
   "outputs": [],
   "source": [
    "labels = train.trips\n",
    "train = train.drop(['trips', 'date'], 1)"
   ]
  },
  {
   "cell_type": "markdown",
   "metadata": {},
   "source": [
    "## Train the Model"
   ]
  },
  {
   "cell_type": "code",
   "execution_count": 53,
   "metadata": {
    "collapsed": false
   },
   "outputs": [],
   "source": [
    "X_train, X_test, y_train, y_test = train_test_split(train, labels, test_size=0.2, random_state = 2)"
   ]
  },
  {
   "cell_type": "code",
   "execution_count": 54,
   "metadata": {
    "collapsed": true
   },
   "outputs": [],
   "source": [
    "#15 fold cross validation. Multiply by -1 to make values positive.\n",
    "#Used median absolute error to learn how many trips my predictions are off by.\n",
    "\n",
    "def scoring(clf):\n",
    "    scores = cross_val_score(clf, X_train, y_train, cv=15, n_jobs=1, scoring = 'neg_median_absolute_error')\n",
    "    print np.median(scores) * -1"
   ]
  },
  {
   "cell_type": "code",
   "execution_count": 55,
   "metadata": {
    "collapsed": false,
    "scrolled": true
   },
   "outputs": [
    {
     "name": "stdout",
     "output_type": "stream",
     "text": [
      "54.723997114\n"
     ]
    }
   ],
   "source": [
    "rfr = RandomForestRegressor(n_estimators = 55,\n",
    "                            min_samples_leaf = 3,\n",
    "                            random_state = 2)\n",
    "scoring(rfr)"
   ]
  },
  {
   "cell_type": "code",
   "execution_count": 56,
   "metadata": {
    "collapsed": false
   },
   "outputs": [
    {
     "name": "stdout",
     "output_type": "stream",
     "text": [
      "52.6821685348\n"
     ]
    }
   ],
   "source": [
    "gbr = GradientBoostingRegressor(learning_rate = 0.12,\n",
    "                                n_estimators = 150,\n",
    "                                max_depth = 8,\n",
    "                                min_samples_leaf = 1,\n",
    "                                random_state = 2)\n",
    "scoring(gbr)"
   ]
  },
  {
   "cell_type": "code",
   "execution_count": 57,
   "metadata": {
    "collapsed": false
   },
   "outputs": [
    {
     "name": "stdout",
     "output_type": "stream",
     "text": [
      "59.6\n"
     ]
    }
   ],
   "source": [
    "dtr = DecisionTreeRegressor(min_samples_leaf = 3,\n",
    "                            max_depth = 8,\n",
    "                            random_state = 2)\n",
    "scoring(dtr)"
   ]
  },
  {
   "cell_type": "code",
   "execution_count": 58,
   "metadata": {
    "collapsed": false
   },
   "outputs": [
    {
     "name": "stdout",
     "output_type": "stream",
     "text": [
      "89.6285714286\n"
     ]
    }
   ],
   "source": [
    "abr = AdaBoostRegressor(n_estimators = 100,\n",
    "                        learning_rate = 0.1,\n",
    "                        loss = 'linear',\n",
    "                        random_state = 2)\n",
    "scoring(abr)"
   ]
  },
  {
   "cell_type": "code",
   "execution_count": 59,
   "metadata": {
    "collapsed": false
   },
   "outputs": [
    {
     "name": "stdout",
     "output_type": "stream",
     "text": [
      "\n",
      " Fold 1\n",
      "[0]\ttrain-rmse:859.779\teval-rmse:860.909\n",
      "Multiple eval metrics have been passed: 'eval-rmse' will be used for early stopping.\n",
      "\n",
      "Will train until eval-rmse hasn't improved in 100 rounds.\n",
      "[50]\ttrain-rmse:20.7369\teval-rmse:113.332\n",
      "[100]\ttrain-rmse:7.9436\teval-rmse:114.767\n",
      "Stopping. Best iteration:\n",
      "[38]\ttrain-rmse:26.8545\teval-rmse:111.666\n",
      "\n",
      "eval-MSE: 55.529480\n",
      "39\n",
      "\n",
      " Fold 2\n",
      "[0]\ttrain-rmse:860.98\teval-rmse:832.034\n",
      "Multiple eval metrics have been passed: 'eval-rmse' will be used for early stopping.\n",
      "\n",
      "Will train until eval-rmse hasn't improved in 100 rounds.\n",
      "[50]\ttrain-rmse:19.8007\teval-rmse:174.169\n",
      "[100]\ttrain-rmse:6.12341\teval-rmse:173.62\n",
      "[150]\ttrain-rmse:2.492\teval-rmse:174.024\n",
      "Stopping. Best iteration:\n",
      "[72]\ttrain-rmse:11.4503\teval-rmse:173.246\n",
      "\n",
      "eval-MSE: 47.253143\n",
      "73\n",
      "\n",
      " Fold 3\n",
      "[0]\ttrain-rmse:860.443\teval-rmse:842.757\n",
      "Multiple eval metrics have been passed: 'eval-rmse' will be used for early stopping.\n",
      "\n",
      "Will train until eval-rmse hasn't improved in 100 rounds.\n",
      "[50]\ttrain-rmse:23.2613\teval-rmse:70.9346\n",
      "[100]\ttrain-rmse:7.49589\teval-rmse:68.9255\n",
      "[150]\ttrain-rmse:2.54838\teval-rmse:68.8071\n",
      "[200]\ttrain-rmse:0.770237\teval-rmse:68.5834\n",
      "[250]\ttrain-rmse:0.264887\teval-rmse:68.5255\n",
      "[300]\ttrain-rmse:0.09435\teval-rmse:68.51\n",
      "[350]\ttrain-rmse:0.034267\teval-rmse:68.5052\n",
      "[400]\ttrain-rmse:0.011931\teval-rmse:68.5032\n",
      "[450]\ttrain-rmse:0.003831\teval-rmse:68.503\n",
      "[500]\ttrain-rmse:0.001329\teval-rmse:68.5028\n",
      "Stopping. Best iteration:\n",
      "[424]\ttrain-rmse:0.006728\teval-rmse:68.5024\n",
      "\n",
      "eval-MSE: 42.654053\n",
      "425\n",
      "\n",
      " Fold 4\n",
      "[0]\ttrain-rmse:863.724\teval-rmse:797.198\n",
      "Multiple eval metrics have been passed: 'eval-rmse' will be used for early stopping.\n",
      "\n",
      "Will train until eval-rmse hasn't improved in 100 rounds.\n",
      "[50]\ttrain-rmse:19.1221\teval-rmse:110.343\n",
      "[100]\ttrain-rmse:6.14873\teval-rmse:109.345\n",
      "[150]\ttrain-rmse:2.06226\teval-rmse:109.205\n",
      "[200]\ttrain-rmse:0.666585\teval-rmse:109.109\n",
      "[250]\ttrain-rmse:0.243806\teval-rmse:109.155\n",
      "[300]\ttrain-rmse:0.092405\teval-rmse:109.159\n",
      "Stopping. Best iteration:\n",
      "[201]\ttrain-rmse:0.660006\teval-rmse:109.108\n",
      "\n",
      "eval-MSE: 46.603394\n",
      "202\n",
      "\n",
      " Fold 5\n",
      "[0]\ttrain-rmse:857.656\teval-rmse:884.266\n",
      "Multiple eval metrics have been passed: 'eval-rmse' will be used for early stopping.\n",
      "\n",
      "Will train until eval-rmse hasn't improved in 100 rounds.\n",
      "[50]\ttrain-rmse:20.2126\teval-rmse:129.143\n",
      "[100]\ttrain-rmse:6.59522\teval-rmse:129.888\n",
      "Stopping. Best iteration:\n",
      "[35]\ttrain-rmse:27.3004\teval-rmse:126.689\n",
      "\n",
      "eval-MSE: 68.570557\n",
      "36\n",
      "\n",
      " Fold 6\n",
      "[0]\ttrain-rmse:858.042\teval-rmse:882.33\n",
      "Multiple eval metrics have been passed: 'eval-rmse' will be used for early stopping.\n",
      "\n",
      "Will train until eval-rmse hasn't improved in 100 rounds.\n",
      "[50]\ttrain-rmse:21.3326\teval-rmse:84.6548\n",
      "[100]\ttrain-rmse:7.17569\teval-rmse:85.8002\n",
      "[150]\ttrain-rmse:2.47633\teval-rmse:86.432\n",
      "Stopping. Best iteration:\n",
      "[61]\ttrain-rmse:17.0187\teval-rmse:84.3279\n",
      "\n",
      "eval-MSE: 51.329010\n",
      "62\n",
      "\n",
      " Fold 7\n",
      "[0]\ttrain-rmse:853.228\teval-rmse:942.492\n",
      "Multiple eval metrics have been passed: 'eval-rmse' will be used for early stopping.\n",
      "\n",
      "Will train until eval-rmse hasn't improved in 100 rounds.\n",
      "[50]\ttrain-rmse:18.6007\teval-rmse:108.012\n",
      "[100]\ttrain-rmse:6.77299\teval-rmse:108.094\n",
      "Stopping. Best iteration:\n",
      "[43]\ttrain-rmse:21.4756\teval-rmse:107.578\n",
      "\n",
      "eval-MSE: 58.940613\n",
      "44\n",
      "\n",
      " Fold 8\n",
      "[0]\ttrain-rmse:858.186\teval-rmse:873.354\n",
      "Multiple eval metrics have been passed: 'eval-rmse' will be used for early stopping.\n",
      "\n",
      "Will train until eval-rmse hasn't improved in 100 rounds.\n",
      "[50]\ttrain-rmse:20.9676\teval-rmse:99.8462\n",
      "[100]\ttrain-rmse:7.2669\teval-rmse:99.7077\n",
      "[150]\ttrain-rmse:2.30738\teval-rmse:99.662\n",
      "Stopping. Best iteration:\n",
      "[90]\ttrain-rmse:8.38023\teval-rmse:99.3917\n",
      "\n",
      "eval-MSE: 39.843140\n",
      "91\n",
      "\n",
      " Fold 9\n",
      "[0]\ttrain-rmse:858.839\teval-rmse:868.353\n",
      "Multiple eval metrics have been passed: 'eval-rmse' will be used for early stopping.\n",
      "\n",
      "Will train until eval-rmse hasn't improved in 100 rounds.\n",
      "[50]\ttrain-rmse:21.4674\teval-rmse:165.296\n",
      "[100]\ttrain-rmse:7.00677\teval-rmse:165.955\n",
      "Stopping. Best iteration:\n",
      "[19]\ttrain-rmse:66.7822\teval-rmse:152.363\n",
      "\n",
      "eval-MSE: 72.899536\n",
      "20\n",
      "\n",
      " Fold 10\n",
      "[0]\ttrain-rmse:860.21\teval-rmse:842.03\n",
      "Multiple eval metrics have been passed: 'eval-rmse' will be used for early stopping.\n",
      "\n",
      "Will train until eval-rmse hasn't improved in 100 rounds.\n",
      "[50]\ttrain-rmse:19.2125\teval-rmse:158.739\n",
      "[100]\ttrain-rmse:7.00915\teval-rmse:157.495\n",
      "Stopping. Best iteration:\n",
      "[25]\ttrain-rmse:42.6674\teval-rmse:154.869\n",
      "\n",
      "eval-MSE: 79.698669\n",
      "26\n",
      "\n",
      " Fold 11\n",
      "[0]\ttrain-rmse:861.049\teval-rmse:839.083\n",
      "Multiple eval metrics have been passed: 'eval-rmse' will be used for early stopping.\n",
      "\n",
      "Will train until eval-rmse hasn't improved in 100 rounds.\n",
      "[50]\ttrain-rmse:19.2867\teval-rmse:143.952\n",
      "[100]\ttrain-rmse:6.55666\teval-rmse:142.971\n",
      "[150]\ttrain-rmse:2.51243\teval-rmse:143.28\n",
      "[200]\ttrain-rmse:0.794751\teval-rmse:143.169\n",
      "Stopping. Best iteration:\n",
      "[102]\ttrain-rmse:6.24491\teval-rmse:142.941\n",
      "\n",
      "eval-MSE: 43.563721\n",
      "103\n",
      "\n",
      " Fold 12\n",
      "[0]\ttrain-rmse:859.57\teval-rmse:857.25\n",
      "Multiple eval metrics have been passed: 'eval-rmse' will be used for early stopping.\n",
      "\n",
      "Will train until eval-rmse hasn't improved in 100 rounds.\n",
      "[50]\ttrain-rmse:20.1459\teval-rmse:159.391\n",
      "[100]\ttrain-rmse:6.90908\teval-rmse:160.024\n",
      "Stopping. Best iteration:\n",
      "[27]\ttrain-rmse:36.5057\teval-rmse:157.346\n",
      "\n",
      "eval-MSE: 44.560059\n",
      "28\n",
      "\n",
      " Fold 13\n",
      "[0]\ttrain-rmse:860.049\teval-rmse:849.594\n",
      "Multiple eval metrics have been passed: 'eval-rmse' will be used for early stopping.\n",
      "\n",
      "Will train until eval-rmse hasn't improved in 100 rounds.\n",
      "[50]\ttrain-rmse:22.4523\teval-rmse:116.256\n",
      "[100]\ttrain-rmse:7.20885\teval-rmse:115.963\n",
      "[150]\ttrain-rmse:2.40616\teval-rmse:115.926\n",
      "Stopping. Best iteration:\n",
      "[71]\ttrain-rmse:14.1167\teval-rmse:115.449\n",
      "\n",
      "eval-MSE: 74.458191\n",
      "72\n",
      "\n",
      " Fold 14\n",
      "[0]\ttrain-rmse:855.482\teval-rmse:912.034\n",
      "Multiple eval metrics have been passed: 'eval-rmse' will be used for early stopping.\n",
      "\n",
      "Will train until eval-rmse hasn't improved in 100 rounds.\n",
      "[50]\ttrain-rmse:22.0508\teval-rmse:69.6592\n",
      "[100]\ttrain-rmse:6.89502\teval-rmse:69.1399\n",
      "Stopping. Best iteration:\n",
      "[31]\ttrain-rmse:34.3098\teval-rmse:67.334\n",
      "\n",
      "eval-MSE: 43.070251\n",
      "32\n",
      "\n",
      " Fold 15\n",
      "[0]\ttrain-rmse:862.082\teval-rmse:817.253\n",
      "Multiple eval metrics have been passed: 'eval-rmse' will be used for early stopping.\n",
      "\n",
      "Will train until eval-rmse hasn't improved in 100 rounds.\n",
      "[50]\ttrain-rmse:20.4179\teval-rmse:126.066\n",
      "[100]\ttrain-rmse:8.05322\teval-rmse:124.779\n",
      "Stopping. Best iteration:\n",
      "[26]\ttrain-rmse:40.5688\teval-rmse:122.887\n",
      "\n",
      "eval-MSE: 55.663818\n",
      "27\n",
      "Median error: 51.329010\n"
     ]
    }
   ],
   "source": [
    "import warnings\n",
    "warnings.filterwarnings(\"ignore\")\n",
    "\n",
    "random_state = 2\n",
    "params = {\n",
    "        'eta': 0.15,\n",
    "        'max_depth': 6,\n",
    "        'min_child_weight': 2,\n",
    "        'subsample': 1,\n",
    "        'colsample_bytree': 1,\n",
    "        'verbose_eval': True,\n",
    "        'seed': random_state,\n",
    "    }\n",
    "\n",
    "n_folds = 15 #number of Kfolds\n",
    "cv_scores = [] #The sum of the mean_absolute_error for each fold.\n",
    "early_stopping_rounds = 100\n",
    "iterations = 10000\n",
    "printN = 50\n",
    "fpred = [] #stores the sums of predicted values for each fold.\n",
    "\n",
    "testFinal = xgb.DMatrix(X_test)\n",
    "\n",
    "kf = KFold(len(X_train), n_folds=n_folds)\n",
    "\n",
    "for i, (train_index, test_index) in enumerate(kf):\n",
    "    print('\\n Fold %d' % (i+1))\n",
    "    Xtrain, Xval = X_train.iloc[train_index], X_train.iloc[test_index]\n",
    "    Ytrain, Yval = y_train.iloc[train_index], y_train.iloc[test_index]\n",
    "    \n",
    "    xgtrain = xgb.DMatrix(Xtrain, label = Ytrain)\n",
    "    xgtest = xgb.DMatrix(Xval, label = Yval)\n",
    "    watchlist = [(xgtrain, 'train'), (xgtest, 'eval')] \n",
    "    \n",
    "    xgbModel = xgb.train(params, \n",
    "                         xgtrain, \n",
    "                         iterations, \n",
    "                         watchlist,\n",
    "                         verbose_eval = printN,\n",
    "                         early_stopping_rounds=early_stopping_rounds\n",
    "                        )\n",
    "    \n",
    "    scores_val = xgbModel.predict(xgtest, ntree_limit=xgbModel.best_ntree_limit)\n",
    "    cv_score = median_absolute_error(Yval, scores_val)\n",
    "    print('eval-MSE: %.6f' % cv_score)\n",
    "    y_pred = xgbModel.predict(testFinal, ntree_limit=xgbModel.best_ntree_limit)\n",
    "    print(xgbModel.best_ntree_limit)\n",
    "\n",
    "    if i > 0:\n",
    "        fpred = pred + y_pred #sum predictions\n",
    "    else:\n",
    "        fpred = y_pred\n",
    "    pred = fpred\n",
    "    cv_scores.append(cv_score)\n",
    "\n",
    "xgb_preds = pred / n_folds #find the average values for the predictions\n",
    "score = np.median(cv_scores)\n",
    "print('Median error: %.6f' % score)"
   ]
  },
  {
   "cell_type": "code",
   "execution_count": 60,
   "metadata": {
    "collapsed": false
   },
   "outputs": [
    {
     "name": "stdout",
     "output_type": "stream",
     "text": [
      "Daily error of trip count: 46.7571098802\n"
     ]
    }
   ],
   "source": [
    "#Train and make predictions with the best models.\n",
    "rfr = rfr.fit(X_train, y_train)\n",
    "gbr = gbr.fit(X_train, y_train)\n",
    "\n",
    "rfr_preds = rfr.predict(X_test)\n",
    "gbr_preds = gbr.predict(X_test)\n",
    "\n",
    "#Weight the top models to find the best prediction\n",
    "final_preds = rfr_preds*0.32 + gbr_preds*0.38 + xgb_preds*0.3\n",
    "print \"Daily error of trip count:\", median_absolute_error(y_test, final_preds)"
   ]
  },
  {
   "cell_type": "code",
   "execution_count": 61,
   "metadata": {
    "collapsed": false
   },
   "outputs": [
    {
     "data": {
      "text/plain": [
       "count     733.000000\n",
       "mean      909.784447\n",
       "std       403.863930\n",
       "min        81.000000\n",
       "25%       445.000000\n",
       "50%      1041.000000\n",
       "75%      1264.000000\n",
       "max      1509.000000\n",
       "Name: trips, dtype: float64"
      ]
     },
     "execution_count": 61,
     "metadata": {},
     "output_type": "execute_result"
    }
   ],
   "source": [
    "#A reminder of the range of values in number of daily trips.\n",
    "labels.describe()"
   ]
  },
  {
   "cell_type": "code",
   "execution_count": 62,
   "metadata": {
    "collapsed": false
   },
   "outputs": [],
   "source": [
    "y_test.reset_index(drop = True, inplace = True)"
   ]
  },
  {
   "cell_type": "code",
   "execution_count": 63,
   "metadata": {
    "collapsed": false,
    "scrolled": true
   },
   "outputs": [
    {
     "data": {
      "image/png": "[encoded data removed]",
      "text/plain": [
       "<matplotlib.figure.Figure at 0x121e44f50>"
      ]
     },
     "metadata": {},
     "output_type": "display_data"
    }
   ],
   "source": [
    "fs = 16\n",
    "plt.figure(figsize=(15,6))\n",
    "plt.plot(final_preds)\n",
    "plt.plot(y_test)\n",
    "plt.legend(['Prediction', 'Acutal'])\n",
    "plt.ylabel(\"Number of Trips\", fontsize = fs)\n",
    "plt.xlabel(\"Predicted Date\", fontsize = fs)\n",
    "plt.title(\"Predicted Values vs Actual Values\", fontsize = fs)\n",
    "plt.show()"
   ]
  },
  {
   "cell_type": "code",
   "execution_count": 64,
   "metadata": {
    "collapsed": true
   },
   "outputs": [],
   "source": [
    "#Create a plot that ranks the features by importance.\n",
    "def plot_importances(model, model_name):\n",
    "    importances = model.feature_importances_\n",
    "    std = np.std([model.feature_importances_ for feature in model.estimators_],\n",
    "                 axis=0)\n",
    "    indices = np.argsort(importances)[::-1]    \n",
    "\n",
    "    # Plot the feature importances of the forest\n",
    "    plt.figure(figsize = (12,5))\n",
    "    plt.title(\"Feature importances of \" + model_name)\n",
    "    plt.bar(range(X_train.shape[1]), importances[indices], color=\"r\", align=\"center\")\n",
    "    plt.xticks(range(X_train.shape[1]), indices)\n",
    "    plt.xlim([-1, X_train.shape[1]])\n",
    "    plt.show()"
   ]
  },
  {
   "cell_type": "code",
   "execution_count": 65,
   "metadata": {
    "collapsed": false
   },
   "outputs": [
    {
     "name": "stdout",
     "output_type": "stream",
     "text": [
      "Feature ranking:\n",
      "(0, 'max_temperature_f')\n",
      "(1, 'mean_temperature_f')\n",
      "(2, 'min_temperature_f')\n",
      "(3, 'max_dew_point_f')\n",
      "(4, 'mean_dew_point_f')\n",
      "(5, 'min_dew_point_f')\n",
      "(6, 'max_humidity')\n",
      "(7, 'mean_humidity')\n",
      "(8, 'min_humidity')\n",
      "(9, 'max_sea_level_pressure_inches')\n",
      "(10, 'mean_sea_level_pressure_inches')\n",
      "(11, 'min_sea_level_pressure_inches')\n",
      "(12, 'max_visibility_miles')\n",
      "(13, 'mean_visibility_miles')\n",
      "(14, 'min_visibility_miles')\n",
      "(15, 'max_wind_Speed_mph')\n",
      "(16, 'mean_wind_speed_mph')\n",
      "(17, 'max_gust_speed_mph')\n",
      "(18, 'precipitation_inches')\n",
      "(19, 'cloud_cover')\n",
      "(20, 'wind_dir_degrees')\n",
      "(21, 'Fog')\n",
      "(22, 'Fog-Rain')\n",
      "(23, 'Normal')\n",
      "(24, 'Rain')\n",
      "(25, 'Rain-Thunderstorm')\n",
      "(26, 'total_docks')\n",
      "(27, 'business_day')\n",
      "(28, 'holiday')\n",
      "(29, 'year')\n",
      "(30, 'month')\n",
      "(31, 'weekday')\n"
     ]
    },
    {
     "data": {
      "image/png": "[encoded data removed]",
      "text/plain": [
       "<matplotlib.figure.Figure at 0x10a1daf10>"
      ]
     },
     "metadata": {},
     "output_type": "display_data"
    },
    {
     "data": {
      "image/png": "[encoded data removed]",
      "text/plain": [
       "<matplotlib.figure.Figure at 0x11fe2e750>"
      ]
     },
     "metadata": {},
     "output_type": "display_data"
    }
   ],
   "source": [
    "# Print the feature ranking\n",
    "print(\"Feature ranking:\")\n",
    "\n",
    "i = 0\n",
    "for feature in X_train:\n",
    "    print (i, feature)\n",
    "    i += 1\n",
    "    \n",
    "plot_importances(rfr, \"Random Forest Regressor\")\n",
    "plot_importances(gbr, \"Gradient Boosting Regressor\")"
   ]
  },
  {
   "cell_type": "markdown",
   "metadata": {},
   "source": [
    "The feature importance ranking for the random forest regressor makes more sense to me than for the gradient boosting regressor. Features, such as 'business_day', 'total_docks', and 'month' match better with my exploratory analysis than 'wind_dir_degrees' and 'max_sea_level_pressure_inches.' Although I have not looked at the data yet, perhaps wind from a particular direction correlates with worse weather/cycling conditions."
   ]
  },
  {
   "cell_type": "markdown",
   "metadata": {},
   "source": [
    "## Summary"
   ]
  },
  {
   "cell_type": "markdown",
   "metadata": {},
   "source": [
    "I believe that I have made a good model to predict how many trips will occur with San Francisco's bike sharing service. My model has a median absolute error of almost 47 trips per day. This should give the company operating this service a good, general estimate of the traffic that will occur each day. \n",
    "\n",
    "I like how my model can provide a good estimate while only using information that is available to the company at the start of the day, i.e. weather forecast, type of day (business day, holiday, etc), and number of bikes that are available. There are a number of ways to make this model, or a similar model, more practical/useful, including: predicting the number of daily trips to/from each station, using the number of trips in the morning to predict the number of trips in the afternoon, and predicting when a station will run out of bikes."
   ]
  },
  {
   "cell_type": "code",
   "execution_count": null,
   "metadata": {
    "collapsed": true
   },
   "outputs": [],
   "source": []
  }
 ],
 "metadata": {
  "kernelspec": {
   "display_name": "Python 2",
   "language": "python",
   "name": "python2"
  },
  "language_info": {
   "codemirror_mode": {
    "name": "ipython",
    "version": 2
   },
   "file_extension": ".py",
   "mimetype": "text/x-python",
   "name": "python",
   "nbconvert_exporter": "python",
   "pygments_lexer": "ipython2",
   "version": "2.7.12"
  }
 },
 "nbformat": 4,
 "nbformat_minor": 1
}
